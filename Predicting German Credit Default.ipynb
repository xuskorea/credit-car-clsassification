{
 "cells": [
  {
   "cell_type": "markdown",
   "metadata": {
    "_uuid": "86c6a56e4b0988d902401370b957f63f4f2754f1",
    "colab_type": "text",
    "id": "oZH67UWnA915"
   },
   "source": [
    "### Import de librerias"
   ]
  },
  {
   "cell_type": "code",
   "execution_count": 2,
   "metadata": {
    "_uuid": "fa1b3ac82eb8fe1b02d69fab3a10b621f1392484",
    "colab": {
     "autoexec": {
      "startup": false,
      "wait_interval": 0
     }
    },
    "colab_type": "code",
    "collapsed": true,
    "id": "UQUQbCn-LIjR",
    "pycharm": {
     "is_executing": false
    }
   },
   "outputs": [],
   "source": [
    "\n",
    "%matplotlib inline \n",
    "import matplotlib.pyplot as plt \n",
    "\n",
    "import numpy as np ; np.random.seed(sum(map(ord, \"aesthetics\")))\n",
    "import pandas as pd\n",
    "\n",
    "\n",
    "\n",
    "from sklearn.metrics import classification_report,confusion_matrix, roc_curve, roc_auc_score, auc, accuracy_score\n",
    "from sklearn.model_selection import ShuffleSplit,train_test_split, cross_val_score, GridSearchCV\n",
    "from sklearn.preprocessing import OneHotEncoder, LabelEncoder, label_binarize, StandardScaler, MinMaxScaler\n",
    "\n",
    "\n",
    "import seaborn \n",
    "seaborn.set_context('notebook') \n",
    "seaborn.set_style(style='darkgrid')\n",
    "\n",
    "from pprint import pprint \n",
    " \n"
   ]
  },
  {
   "cell_type": "markdown",
   "metadata": {
    "_uuid": "e53977fea8ba2969bb815820b810ae0798f79ff3",
    "colab_type": "text",
    "id": "HvfBj0KiBC1m"
   },
   "source": [
    "### Funciones de evaluacion\n",
    "\n",
    "Son funciones que no vienen prorccionadas por el paquete scikit learn"
   ]
  },
  {
   "cell_type": "code",
   "execution_count": 105,
   "metadata": {
    "_uuid": "ad532098b4568aab69e710aa1b73097b0aeaa56a",
    "colab": {
     "autoexec": {
      "startup": false,
      "wait_interval": 0
     }
    },
    "colab_type": "code",
    "id": "Y5FAGSW_K_il",
    "pycharm": {
     "is_executing": false
    }
   },
   "outputs": [],
   "source": [
    "# Function for evaluation reports\n",
    "def get_eval(clf, X,y):\n",
    "\n",
    "    scores1 = cross_val_score(clf, X, y, cv=2, scoring='accuracy')\n",
    "    scores2 = cross_val_score(clf, X, y, cv=2, scoring='precision')\n",
    "    scores3 = cross_val_score(clf, X, y, cv=2, scoring='recall')\n",
    "    scores4 = cross_val_score(clf, X, y, cv=2, scoring='roc_auc')\n",
    "    \n",
    "    # La media de los scores anteriores y su desviacion\n",
    "    print(\"Validacion cruzada: %0.2f (+/- %0.2f)\" % (scores1.mean(), scores1.std()))\n",
    "    print(\"Validacion cruzada: %0.2f (+/- %0.2f)\" % (scores2.mean(), scores2.std()))\n",
    "    print(\"Validacion cruzada: %0.2f (+/- %0.2f)\" % (scores3.mean(), scores3.std()))\n",
    "    print(\"Validacion cruzada: %0.2f (+/- %0.2f)\" % (scores4.mean(), scores4.std()))\n",
    "    \n",
    "    return \n",
    "\n",
    "def get_eval2(clf, X_train, y_train,X_test, y_test):\n",
    "    # Aqui hago cross balidation para prevenir el overfitting.\n",
    "    scores1 = cross_val_score(clf, X_test, y_test, cv=2, scoring='accuracy')\n",
    "    scores2 = cross_val_score(clf, X_test, y_test, cv=2, scoring='precision')\n",
    "    scores3 = cross_val_score(clf, X_test, y_test, cv=2, scoring='recall')\n",
    "    scores4 = cross_val_score(clf, X_test, y_test, cv=2, scoring='roc_auc')\n",
    "    \n",
    "    # La media de los scores anteriores y su desviacion tipica.En clase se utilizaba boxplots para representarlo\n",
    "    # yo utilizo un metodo mas numerico.\n",
    "    print(\"Validacion cruzada Accuracy: %0.2f (+/- %0.2f)\" % (scores1.mean(), scores1.std()))\n",
    "    print(\"Validacion cruzada Precision: %0.2f (+/- %0.2f)\" % (scores2.mean(), scores2.std()))\n",
    "    print(\"Validacion cruzadaRecall: %0.2f (+/- %0.2f)\" % (scores3.mean(), scores3.std()))\n",
    "    print(\"Validacion cruzada roc_auc: %0.2f (+/- %0.2f)\" % (scores4.mean(), scores4.std()))\n",
    "    \n",
    "    return  \n",
    "  \n",
    "# Funcion que da la curva ROC\n",
    "def get_roc (y_test,y_pred):\n",
    "    fpr = dict()\n",
    "    tpr = dict()\n",
    "    roc_auc = dict()\n",
    "    fpr, tpr, _ = roc_curve(y_test, y_pred)\n",
    "    roc_auc = auc(fpr, tpr)\n",
    "    #Plot of a ROC curve\n",
    "    plt.figure()\n",
    "    lw = 2\n",
    "    plt.plot(fpr, tpr, color='darkorange',\n",
    "             label='Curva ROC (area = %0.2f)' % roc_auc)\n",
    "    plt.plot([0, 1], [0, 1], color='navy', lw=lw, linestyle='--')\n",
    "    plt.xlim([0.0, 1.0])\n",
    "    plt.ylim([0.0, 1.0])\n",
    "    plt.xlabel('Ranking de falsos positivos')\n",
    "    plt.ylabel('Ranking de vardaros positivos')\n",
    "    plt.legend(loc=\"upper left\")\n",
    "    plt.show()\n",
    "    return\n"
   ]
  },
  {
   "cell_type": "code",
   "execution_count": null,
   "metadata": {},
   "outputs": [],
   "source": []
  },
  {
   "cell_type": "markdown",
   "metadata": {
    "_uuid": "148a2b3cfebaac7674b5bb78496d1cf0266a26cf",
    "colab_type": "text",
    "id": "ktQtae8aBGPQ"
   },
   "source": [
    "#### XGBoost Model"
   ]
  },
  {
   "cell_type": "code",
   "execution_count": 83,
   "metadata": {
    "_uuid": "a7b80d642ccc18e23b9a0ece9c7f57eca3c67cfd",
    "colab": {
     "autoexec": {
      "startup": false,
      "wait_interval": 0
     }
    },
    "colab_type": "code",
    "id": "qOM2Y0A8CGN8",
    "pycharm": {
     "is_executing": false
    }
   },
   "outputs": [],
   "source": [
    "import warnings\n",
    "warnings.filterwarnings(\"ignore\", category=DeprecationWarning) \n",
    "\n",
    "import xgboost as xgb\n",
    "from xgboost import XGBClassifier\n",
    "#print('XGBoost v',xgb.__version__)\n",
    "\n",
    "def xgbclf(params, X_train, y_train,X_test, y_test):\n",
    "  \n",
    "    eval_set=[(X_train, y_train), (X_test, y_test)]\n",
    "    \n",
    "    model = XGBClassifier(**params).\\\n",
    "      fit(X_train, y_train, eval_set=eval_set, \\\n",
    "                  eval_metric='auc', early_stopping_rounds = 100, verbose=100)\n",
    "        \n",
    "  \n",
    "    model.set_params(**{'n_estimators': model.best_ntree_limit})\n",
    "    model.fit(X_train, y_train)\n",
    "    #print(model,'\\n')\n",
    "    \n",
    "    # Prediccion de la variable objetivo.\n",
    "    y_pred = model.predict(X_test, ntree_limit=model.best_ntree_limit) \n",
    "   \n",
    "    # Hacer la crooss validation\n",
    "    get_eval(model, X_train, y_train)\n",
    "    get_eval2(model, X_train, y_train,X_test, y_test)\n",
    "    \n",
    "    # Creacion de martiz de confusion  \n",
    "    abclf_cm = confusion_matrix(y_test,y_pred)\n",
    "    print(abclf_cm)\n",
    "    \n",
    "    #y_pred = model.predict(X_test)\n",
    "    print (classification_report(y_test,y_pred) )\n",
    "    print ('\\n')\n",
    "    print (\"Modelo final con Accuracy: %.6f\" %accuracy_score(y_test,y_pred) )\n",
    "    \n",
    "    # Predecir las variables\n",
    "    y_pred_proba = model.predict_proba(X_test, ntree_limit=model.best_ntree_limit)[:,1] #model.best_iteration\n",
    "    get_roc (y_test,y_pred_proba)\n",
    "    return model\n",
    "\n",
    "def plot_featureImportance(model, keys):\n",
    "  importances = model.feature_importances_\n",
    "\n",
    "  importance_frame = pd.DataFrame({'Importance': list(importances), 'Feature': list(keys)})\n",
    "  importance_frame.sort_values(by = 'Importance', inplace = True)\n",
    "  importance_frame.tail(10).plot(kind = 'barh', x = 'Feature', figsize = (8,8), color = 'orange')\n",
    "\n",
    "\n"
   ]
  },
  {
   "cell_type": "code",
   "execution_count": 28,
   "metadata": {
    "_uuid": "4807a2a54ddeb7ecb9142b586088ea672103d4ff",
    "colab": {
     "autoexec": {
      "startup": false,
      "wait_interval": 0
     },
     "base_uri": "https://localhost:8080/",
     "height": 372
    },
    "colab_type": "code",
    "executionInfo": {
     "elapsed": 768,
     "status": "ok",
     "timestamp": 1531200575113,
     "user": {
      "displayName": "M Hendra Herviawan",
      "photoUrl": "https://lh3.googleusercontent.com/a/default-user=s128",
      "userId": "116685199798904688878"
     },
     "user_tz": -420
    },
    "id": "YYgBTbPj1fbQ",
    "outputId": "d5569d76-1c4f-432a-a2b7-2b9ceb3e3439",
    "pycharm": {
     "is_executing": false
    }
   },
   "outputs": [
    {
     "name": "stdout",
     "output_type": "stream",
     "text": [
      "(1000, 21)\n",
      "Index(['existingchecking', 'duration', 'credithistory', 'purpose',\n",
      "       'creditamount', 'savings', 'employmentsince', 'installmentrate',\n",
      "       'statussex', 'otherdebtors', 'residencesince', 'property', 'age',\n",
      "       'otherinstallmentplans', 'housing', 'existingcredits', 'job',\n",
      "       'peopleliable', 'telephone', 'foreignworker', 'classification'],\n",
      "      dtype='object')\n"
     ]
    },
    {
     "data": {
      "text/html": [
       "<div>\n",
       "<style scoped>\n",
       "    .dataframe tbody tr th:only-of-type {\n",
       "        vertical-align: middle;\n",
       "    }\n",
       "\n",
       "    .dataframe tbody tr th {\n",
       "        vertical-align: top;\n",
       "    }\n",
       "\n",
       "    .dataframe thead th {\n",
       "        text-align: right;\n",
       "    }\n",
       "</style>\n",
       "<table border=\"1\" class=\"dataframe\">\n",
       "  <thead>\n",
       "    <tr style=\"text-align: right;\">\n",
       "      <th></th>\n",
       "      <th>existingchecking</th>\n",
       "      <th>duration</th>\n",
       "      <th>credithistory</th>\n",
       "      <th>purpose</th>\n",
       "      <th>creditamount</th>\n",
       "      <th>savings</th>\n",
       "      <th>employmentsince</th>\n",
       "      <th>installmentrate</th>\n",
       "      <th>statussex</th>\n",
       "      <th>otherdebtors</th>\n",
       "      <th>...</th>\n",
       "      <th>property</th>\n",
       "      <th>age</th>\n",
       "      <th>otherinstallmentplans</th>\n",
       "      <th>housing</th>\n",
       "      <th>existingcredits</th>\n",
       "      <th>job</th>\n",
       "      <th>peopleliable</th>\n",
       "      <th>telephone</th>\n",
       "      <th>foreignworker</th>\n",
       "      <th>classification</th>\n",
       "    </tr>\n",
       "  </thead>\n",
       "  <tbody>\n",
       "    <tr>\n",
       "      <th>0</th>\n",
       "      <td>A11</td>\n",
       "      <td>6</td>\n",
       "      <td>A34</td>\n",
       "      <td>A43</td>\n",
       "      <td>1169</td>\n",
       "      <td>A65</td>\n",
       "      <td>A75</td>\n",
       "      <td>4</td>\n",
       "      <td>A93</td>\n",
       "      <td>A101</td>\n",
       "      <td>...</td>\n",
       "      <td>A121</td>\n",
       "      <td>67</td>\n",
       "      <td>A143</td>\n",
       "      <td>A152</td>\n",
       "      <td>2</td>\n",
       "      <td>A173</td>\n",
       "      <td>1</td>\n",
       "      <td>A192</td>\n",
       "      <td>A201</td>\n",
       "      <td>1</td>\n",
       "    </tr>\n",
       "    <tr>\n",
       "      <th>1</th>\n",
       "      <td>A12</td>\n",
       "      <td>48</td>\n",
       "      <td>A32</td>\n",
       "      <td>A43</td>\n",
       "      <td>5951</td>\n",
       "      <td>A61</td>\n",
       "      <td>A73</td>\n",
       "      <td>2</td>\n",
       "      <td>A92</td>\n",
       "      <td>A101</td>\n",
       "      <td>...</td>\n",
       "      <td>A121</td>\n",
       "      <td>22</td>\n",
       "      <td>A143</td>\n",
       "      <td>A152</td>\n",
       "      <td>1</td>\n",
       "      <td>A173</td>\n",
       "      <td>1</td>\n",
       "      <td>A191</td>\n",
       "      <td>A201</td>\n",
       "      <td>2</td>\n",
       "    </tr>\n",
       "    <tr>\n",
       "      <th>2</th>\n",
       "      <td>A14</td>\n",
       "      <td>12</td>\n",
       "      <td>A34</td>\n",
       "      <td>A46</td>\n",
       "      <td>2096</td>\n",
       "      <td>A61</td>\n",
       "      <td>A74</td>\n",
       "      <td>2</td>\n",
       "      <td>A93</td>\n",
       "      <td>A101</td>\n",
       "      <td>...</td>\n",
       "      <td>A121</td>\n",
       "      <td>49</td>\n",
       "      <td>A143</td>\n",
       "      <td>A152</td>\n",
       "      <td>1</td>\n",
       "      <td>A172</td>\n",
       "      <td>2</td>\n",
       "      <td>A191</td>\n",
       "      <td>A201</td>\n",
       "      <td>1</td>\n",
       "    </tr>\n",
       "    <tr>\n",
       "      <th>3</th>\n",
       "      <td>A11</td>\n",
       "      <td>42</td>\n",
       "      <td>A32</td>\n",
       "      <td>A42</td>\n",
       "      <td>7882</td>\n",
       "      <td>A61</td>\n",
       "      <td>A74</td>\n",
       "      <td>2</td>\n",
       "      <td>A93</td>\n",
       "      <td>A103</td>\n",
       "      <td>...</td>\n",
       "      <td>A122</td>\n",
       "      <td>45</td>\n",
       "      <td>A143</td>\n",
       "      <td>A153</td>\n",
       "      <td>1</td>\n",
       "      <td>A173</td>\n",
       "      <td>2</td>\n",
       "      <td>A191</td>\n",
       "      <td>A201</td>\n",
       "      <td>1</td>\n",
       "    </tr>\n",
       "    <tr>\n",
       "      <th>4</th>\n",
       "      <td>A11</td>\n",
       "      <td>24</td>\n",
       "      <td>A33</td>\n",
       "      <td>A40</td>\n",
       "      <td>4870</td>\n",
       "      <td>A61</td>\n",
       "      <td>A73</td>\n",
       "      <td>3</td>\n",
       "      <td>A93</td>\n",
       "      <td>A101</td>\n",
       "      <td>...</td>\n",
       "      <td>A124</td>\n",
       "      <td>53</td>\n",
       "      <td>A143</td>\n",
       "      <td>A153</td>\n",
       "      <td>2</td>\n",
       "      <td>A173</td>\n",
       "      <td>2</td>\n",
       "      <td>A191</td>\n",
       "      <td>A201</td>\n",
       "      <td>2</td>\n",
       "    </tr>\n",
       "    <tr>\n",
       "      <th>5</th>\n",
       "      <td>A14</td>\n",
       "      <td>36</td>\n",
       "      <td>A32</td>\n",
       "      <td>A46</td>\n",
       "      <td>9055</td>\n",
       "      <td>A65</td>\n",
       "      <td>A73</td>\n",
       "      <td>2</td>\n",
       "      <td>A93</td>\n",
       "      <td>A101</td>\n",
       "      <td>...</td>\n",
       "      <td>A124</td>\n",
       "      <td>35</td>\n",
       "      <td>A143</td>\n",
       "      <td>A153</td>\n",
       "      <td>1</td>\n",
       "      <td>A172</td>\n",
       "      <td>2</td>\n",
       "      <td>A192</td>\n",
       "      <td>A201</td>\n",
       "      <td>1</td>\n",
       "    </tr>\n",
       "    <tr>\n",
       "      <th>6</th>\n",
       "      <td>A14</td>\n",
       "      <td>24</td>\n",
       "      <td>A32</td>\n",
       "      <td>A42</td>\n",
       "      <td>2835</td>\n",
       "      <td>A63</td>\n",
       "      <td>A75</td>\n",
       "      <td>3</td>\n",
       "      <td>A93</td>\n",
       "      <td>A101</td>\n",
       "      <td>...</td>\n",
       "      <td>A122</td>\n",
       "      <td>53</td>\n",
       "      <td>A143</td>\n",
       "      <td>A152</td>\n",
       "      <td>1</td>\n",
       "      <td>A173</td>\n",
       "      <td>1</td>\n",
       "      <td>A191</td>\n",
       "      <td>A201</td>\n",
       "      <td>1</td>\n",
       "    </tr>\n",
       "    <tr>\n",
       "      <th>7</th>\n",
       "      <td>A12</td>\n",
       "      <td>36</td>\n",
       "      <td>A32</td>\n",
       "      <td>A41</td>\n",
       "      <td>6948</td>\n",
       "      <td>A61</td>\n",
       "      <td>A73</td>\n",
       "      <td>2</td>\n",
       "      <td>A93</td>\n",
       "      <td>A101</td>\n",
       "      <td>...</td>\n",
       "      <td>A123</td>\n",
       "      <td>35</td>\n",
       "      <td>A143</td>\n",
       "      <td>A151</td>\n",
       "      <td>1</td>\n",
       "      <td>A174</td>\n",
       "      <td>1</td>\n",
       "      <td>A192</td>\n",
       "      <td>A201</td>\n",
       "      <td>1</td>\n",
       "    </tr>\n",
       "    <tr>\n",
       "      <th>8</th>\n",
       "      <td>A14</td>\n",
       "      <td>12</td>\n",
       "      <td>A32</td>\n",
       "      <td>A43</td>\n",
       "      <td>3059</td>\n",
       "      <td>A64</td>\n",
       "      <td>A74</td>\n",
       "      <td>2</td>\n",
       "      <td>A91</td>\n",
       "      <td>A101</td>\n",
       "      <td>...</td>\n",
       "      <td>A121</td>\n",
       "      <td>61</td>\n",
       "      <td>A143</td>\n",
       "      <td>A152</td>\n",
       "      <td>1</td>\n",
       "      <td>A172</td>\n",
       "      <td>1</td>\n",
       "      <td>A191</td>\n",
       "      <td>A201</td>\n",
       "      <td>1</td>\n",
       "    </tr>\n",
       "    <tr>\n",
       "      <th>9</th>\n",
       "      <td>A12</td>\n",
       "      <td>30</td>\n",
       "      <td>A34</td>\n",
       "      <td>A40</td>\n",
       "      <td>5234</td>\n",
       "      <td>A61</td>\n",
       "      <td>A71</td>\n",
       "      <td>4</td>\n",
       "      <td>A94</td>\n",
       "      <td>A101</td>\n",
       "      <td>...</td>\n",
       "      <td>A123</td>\n",
       "      <td>28</td>\n",
       "      <td>A143</td>\n",
       "      <td>A152</td>\n",
       "      <td>2</td>\n",
       "      <td>A174</td>\n",
       "      <td>1</td>\n",
       "      <td>A191</td>\n",
       "      <td>A201</td>\n",
       "      <td>2</td>\n",
       "    </tr>\n",
       "  </tbody>\n",
       "</table>\n",
       "<p>10 rows × 21 columns</p>\n",
       "</div>"
      ],
      "text/plain": [
       "  existingchecking  duration credithistory purpose  creditamount savings  \\\n",
       "0              A11         6           A34     A43          1169     A65   \n",
       "1              A12        48           A32     A43          5951     A61   \n",
       "2              A14        12           A34     A46          2096     A61   \n",
       "3              A11        42           A32     A42          7882     A61   \n",
       "4              A11        24           A33     A40          4870     A61   \n",
       "5              A14        36           A32     A46          9055     A65   \n",
       "6              A14        24           A32     A42          2835     A63   \n",
       "7              A12        36           A32     A41          6948     A61   \n",
       "8              A14        12           A32     A43          3059     A64   \n",
       "9              A12        30           A34     A40          5234     A61   \n",
       "\n",
       "  employmentsince  installmentrate statussex otherdebtors  ...  property age  \\\n",
       "0             A75                4       A93         A101  ...      A121  67   \n",
       "1             A73                2       A92         A101  ...      A121  22   \n",
       "2             A74                2       A93         A101  ...      A121  49   \n",
       "3             A74                2       A93         A103  ...      A122  45   \n",
       "4             A73                3       A93         A101  ...      A124  53   \n",
       "5             A73                2       A93         A101  ...      A124  35   \n",
       "6             A75                3       A93         A101  ...      A122  53   \n",
       "7             A73                2       A93         A101  ...      A123  35   \n",
       "8             A74                2       A91         A101  ...      A121  61   \n",
       "9             A71                4       A94         A101  ...      A123  28   \n",
       "\n",
       "   otherinstallmentplans housing existingcredits   job peopleliable  \\\n",
       "0                   A143    A152               2  A173            1   \n",
       "1                   A143    A152               1  A173            1   \n",
       "2                   A143    A152               1  A172            2   \n",
       "3                   A143    A153               1  A173            2   \n",
       "4                   A143    A153               2  A173            2   \n",
       "5                   A143    A153               1  A172            2   \n",
       "6                   A143    A152               1  A173            1   \n",
       "7                   A143    A151               1  A174            1   \n",
       "8                   A143    A152               1  A172            1   \n",
       "9                   A143    A152               2  A174            1   \n",
       "\n",
       "   telephone foreignworker classification  \n",
       "0       A192          A201              1  \n",
       "1       A191          A201              2  \n",
       "2       A191          A201              1  \n",
       "3       A191          A201              1  \n",
       "4       A191          A201              2  \n",
       "5       A192          A201              1  \n",
       "6       A191          A201              1  \n",
       "7       A192          A201              1  \n",
       "8       A191          A201              1  \n",
       "9       A191          A201              2  \n",
       "\n",
       "[10 rows x 21 columns]"
      ]
     },
     "execution_count": 28,
     "metadata": {},
     "output_type": "execute_result"
    }
   ],
   "source": [
    "file = 'data/germancreditdata/german.data'\n",
    "\n",
    "url = \"http://archive.ics.uci.edu/ml/machine-learning-databases/statlog/german/german.data\"\n",
    "\n",
    "names = ['existingchecking', 'duration', 'credithistory', 'purpose', 'creditamount', \n",
    "         'savings', 'employmentsince', 'installmentrate', 'statussex', 'otherdebtors', \n",
    "         'residencesince', 'property', 'age', 'otherinstallmentplans', 'housing', \n",
    "         'existingcredits', 'job', 'peopleliable', 'telephone', 'foreignworker', 'classification']\n",
    "\n",
    "data = pd.read_csv(file,names = names, delimiter=' ')\n",
    "print(data.shape)\n",
    "print (data.columns)\n",
    "data.head(10)"
   ]
  },
  {
   "cell_type": "code",
   "execution_count": 29,
   "metadata": {
    "_uuid": "224c2c3967abdccd1e4527c18024e08288ba1ca9",
    "colab": {
     "autoexec": {
      "startup": false,
      "wait_interval": 0
     },
     "base_uri": "https://localhost:8080/",
     "height": 68
    },
    "colab_type": "code",
    "executionInfo": {
     "elapsed": 709,
     "status": "ok",
     "timestamp": 1531189108051,
     "user": {
      "displayName": "M Hendra Herviawan",
      "photoUrl": "https://lh3.googleusercontent.com/a/default-user=s128",
      "userId": "116685199798904688878"
     },
     "user_tz": -420
    },
    "id": "B3FPJfz33xkK",
    "outputId": "9c678580-fb5a-4f2c-a788-676f3fda2d60",
    "pycharm": {
     "is_executing": false
    }
   },
   "outputs": [
    {
     "data": {
      "text/plain": [
       "1    700\n",
       "0    300\n",
       "Name: classification, dtype: int64"
      ]
     },
     "execution_count": 29,
     "metadata": {},
     "output_type": "execute_result"
    }
   ],
   "source": [
    "\n",
    "data.classification.replace([1,2], [1,0], inplace=True)\n",
    "\n",
    "## 300 es un buen credito menos de 300 es malo\n",
    "\n",
    "data.classification.value_counts()"
   ]
  },
  {
   "cell_type": "markdown",
   "metadata": {
    "_uuid": "2d2774790c3f63cfc0eaa81517ce8f0eb4680478",
    "colab_type": "text",
    "id": "Tr1A8ZIHzuFw"
   },
   "source": [
    "### StandardScaler"
   ]
  },
  {
   "cell_type": "code",
   "execution_count": 30,
   "metadata": {
    "_uuid": "f03a76714ee08fe41f9b59aab287d68d481892b5",
    "colab": {
     "autoexec": {
      "startup": false,
      "wait_interval": 0
     }
    },
    "colab_type": "code",
    "id": "dKKUEqTo380x",
    "pycharm": {
     "is_executing": false
    }
   },
   "outputs": [],
   "source": [
    "#variables numericas\n",
    "\n",
    "\n",
    "numvars = ['creditamount', 'duration', 'installmentrate', 'residencesince', 'age', \n",
    "           'existingcredits', 'peopleliable', 'classification']\n",
    "\n",
    "# Standardization\n",
    "numdata_std = pd.DataFrame(StandardScaler().fit_transform(data[numvars].drop(['classification'], axis=1)))"
   ]
  },
  {
   "cell_type": "markdown",
   "metadata": {
    "_uuid": "19dce81fc16194265c5d8942fa81c64934d60855",
    "colab_type": "text",
    "id": "X4ZzfmRy4M9I"
   },
   "source": [
    "### Variables categoricas \n",
    "\n",
    "Transformamos las variables categoricas a variables que puedan ser interpretadas por el programa con la funcion get dummies."
   ]
  },
  {
   "cell_type": "code",
   "execution_count": 31,
   "metadata": {
    "_uuid": "dab67695a0984af965a7dbea250276c4369b5875",
    "colab": {
     "autoexec": {
      "startup": false,
      "wait_interval": 0
     },
     "base_uri": "https://localhost:8080/",
     "height": 459
    },
    "colab_type": "code",
    "executionInfo": {
     "elapsed": 621,
     "status": "ok",
     "timestamp": 1531189110846,
     "user": {
      "displayName": "M Hendra Herviawan",
      "photoUrl": "https://lh3.googleusercontent.com/a/default-user=s128",
      "userId": "116685199798904688878"
     },
     "user_tz": -420
    },
    "id": "xSnUU8E_4IgX",
    "outputId": "4325e306-c15b-4130-ee8b-105729ccd053",
    "pycharm": {
     "is_executing": false
    }
   },
   "outputs": [
    {
     "name": "stdout",
     "output_type": "stream",
     "text": [
      "existingchecking :  ['A11' 'A12' 'A14' 'A13']\n",
      "existingchecking :  [0 1 3 2]\n",
      "credithistory :  ['A34' 'A32' 'A33' 'A30' 'A31']\n",
      "credithistory :  [4 2 3 0 1]\n",
      "purpose :  ['A43' 'A46' 'A42' 'A40' 'A41' 'A49' 'A44' 'A45' 'A410' 'A48']\n",
      "purpose :  [4 7 3 0 1 9 5 6 2 8]\n",
      "savings :  ['A65' 'A61' 'A63' 'A64' 'A62']\n",
      "savings :  [4 0 2 3 1]\n",
      "employmentsince :  ['A75' 'A73' 'A74' 'A71' 'A72']\n",
      "employmentsince :  [4 2 3 0 1]\n",
      "statussex :  ['A93' 'A92' 'A91' 'A94']\n",
      "statussex :  [2 1 0 3]\n",
      "otherdebtors :  ['A101' 'A103' 'A102']\n",
      "otherdebtors :  [0 2 1]\n",
      "property :  ['A121' 'A122' 'A124' 'A123']\n",
      "property :  [0 1 3 2]\n",
      "otherinstallmentplans :  ['A143' 'A141' 'A142']\n",
      "otherinstallmentplans :  [2 0 1]\n",
      "housing :  ['A152' 'A153' 'A151']\n",
      "housing :  [1 2 0]\n",
      "job :  ['A173' 'A172' 'A174' 'A171']\n",
      "job :  [2 1 3 0]\n",
      "telephone :  ['A192' 'A191']\n",
      "telephone :  [1 0]\n",
      "foreignworker :  ['A201' 'A202']\n",
      "foreignworker :  [0 1]\n"
     ]
    }
   ],
   "source": [
    "from collections import defaultdict\n",
    "\n",
    "# Variables que son categoricas\n",
    "catvars = ['existingchecking', 'credithistory', 'purpose', 'savings', 'employmentsince',\n",
    "           'statussex', 'otherdebtors', 'property', 'otherinstallmentplans', 'housing', 'job', \n",
    "           'telephone', 'foreignworker']\n",
    "\n",
    "d = defaultdict(LabelEncoder)\n",
    "\n",
    "# C\n",
    "lecatdata = data[catvars].apply(lambda x: d[x.name].fit_transform(x))\n",
    "\n",
    "\n",
    "for x in range(len(catvars)):\n",
    "    print(catvars[x],\": \", data[catvars[x]].unique())\n",
    "    print(catvars[x],\": \", lecatdata[catvars[x]].unique())\n",
    "\n",
    "\n",
    "dummyvars = pd.get_dummies(data[catvars])\n",
    "\n"
   ]
  },
  {
   "cell_type": "code",
   "execution_count": 32,
   "metadata": {
    "_uuid": "50738e0e4b89a8facc7c73581661f3110427d8e9",
    "colab": {
     "autoexec": {
      "startup": false,
      "wait_interval": 0
     },
     "base_uri": "https://localhost:8080/",
     "height": 68
    },
    "colab_type": "code",
    "executionInfo": {
     "elapsed": 638,
     "status": "ok",
     "timestamp": 1531189111653,
     "user": {
      "displayName": "M Hendra Herviawan",
      "photoUrl": "https://lh3.googleusercontent.com/a/default-user=s128",
      "userId": "116685199798904688878"
     },
     "user_tz": -420
    },
    "id": "jkncbC1M4ZzD",
    "outputId": "4b596160-48a6-40c5-8fd2-2104e3afabe9",
    "pycharm": {
     "is_executing": false
    }
   },
   "outputs": [
    {
     "name": "stdout",
     "output_type": "stream",
     "text": [
      "(1000, 62)\n"
     ]
    }
   ],
   "source": [
    "data_clean = pd.concat([data[numvars], dummyvars], axis = 1)\n",
    "\n",
    "print(data_clean.shape)"
   ]
  },
  {
   "cell_type": "markdown",
   "metadata": {
    "_uuid": "53f8db9397eeb56dae3d735e712b4ba251a36a7b",
    "colab_type": "text",
    "id": "OI89YwDN4kXI"
   },
   "source": [
    "### Dividimos el daset en train and clean"
   ]
  },
  {
   "cell_type": "code",
   "execution_count": 33,
   "metadata": {
    "_uuid": "5f1724b5dc93f592481eb1c608553d1c5fad2108",
    "colab": {
     "autoexec": {
      "startup": false,
      "wait_interval": 0
     }
    },
    "colab_type": "code",
    "id": "cP6puz7s4hQr",
    "pycharm": {
     "is_executing": false
    }
   },
   "outputs": [],
   "source": [
    "X_clean = data_clean.drop('classification', axis=1)\n",
    "y_clean = data_clean['classification']\n",
    "X_train_clean, X_test_clean, y_train_clean, y_test_clean = train_test_split(X_clean,y_clean,test_size=0.2, random_state=1)"
   ]
  },
  {
   "cell_type": "code",
   "execution_count": 34,
   "metadata": {
    "_uuid": "900557195bd519524bb3d46fb6b3d8d7344692dc",
    "colab": {
     "autoexec": {
      "startup": false,
      "wait_interval": 0
     },
     "base_uri": "https://localhost:8080/",
     "height": 340
    },
    "colab_type": "code",
    "executionInfo": {
     "elapsed": 708,
     "status": "ok",
     "timestamp": 1531189113358,
     "user": {
      "displayName": "M Hendra Herviawan",
      "photoUrl": "https://lh3.googleusercontent.com/a/default-user=s128",
      "userId": "116685199798904688878"
     },
     "user_tz": -420
    },
    "id": "MkEfVz7rgssR",
    "outputId": "2545c4f2-9d69-4d50-dc1c-82525586f013",
    "pycharm": {
     "is_executing": false
    }
   },
   "outputs": [
    {
     "data": {
      "text/plain": [
       "Index(['creditamount', 'duration', 'installmentrate', 'residencesince', 'age',\n",
       "       'existingcredits', 'peopleliable', 'existingchecking_A11',\n",
       "       'existingchecking_A12', 'existingchecking_A13', 'existingchecking_A14',\n",
       "       'credithistory_A30', 'credithistory_A31', 'credithistory_A32',\n",
       "       'credithistory_A33', 'credithistory_A34', 'purpose_A40', 'purpose_A41',\n",
       "       'purpose_A410', 'purpose_A42', 'purpose_A43', 'purpose_A44',\n",
       "       'purpose_A45', 'purpose_A46', 'purpose_A48', 'purpose_A49',\n",
       "       'savings_A61', 'savings_A62', 'savings_A63', 'savings_A64',\n",
       "       'savings_A65', 'employmentsince_A71', 'employmentsince_A72',\n",
       "       'employmentsince_A73', 'employmentsince_A74', 'employmentsince_A75',\n",
       "       'statussex_A91', 'statussex_A92', 'statussex_A93', 'statussex_A94',\n",
       "       'otherdebtors_A101', 'otherdebtors_A102', 'otherdebtors_A103',\n",
       "       'property_A121', 'property_A122', 'property_A123', 'property_A124',\n",
       "       'otherinstallmentplans_A141', 'otherinstallmentplans_A142',\n",
       "       'otherinstallmentplans_A143', 'housing_A151', 'housing_A152',\n",
       "       'housing_A153', 'job_A171', 'job_A172', 'job_A173', 'job_A174',\n",
       "       'telephone_A191', 'telephone_A192', 'foreignworker_A201',\n",
       "       'foreignworker_A202'],\n",
       "      dtype='object')"
      ]
     },
     "execution_count": 34,
     "metadata": {},
     "output_type": "execute_result"
    }
   ],
   "source": [
    "X_train_clean.keys()"
   ]
  },
  {
   "cell_type": "markdown",
   "metadata": {
    "_uuid": "924ad3aaf8f771939fafab52352598b158d4d9bb",
    "colab_type": "text",
    "id": "3LRHY79JAlbF"
   },
   "source": [
    "### XGBoost  "
   ]
  },
  {
   "cell_type": "code",
   "execution_count": 84,
   "metadata": {
    "_uuid": "03740b4aa1ec34f7874001fe00f36496a607050b",
    "colab": {
     "autoexec": {
      "startup": false,
      "wait_interval": 0
     },
     "base_uri": "https://localhost:8080/",
     "height": 1039
    },
    "colab_type": "code",
    "executionInfo": {
     "elapsed": 1831,
     "status": "ok",
     "timestamp": 1531192485583,
     "user": {
      "displayName": "M Hendra Herviawan",
      "photoUrl": "https://lh3.googleusercontent.com/a/default-user=s128",
      "userId": "116685199798904688878"
     },
     "user_tz": -420
    },
    "id": "trS6OdaaEoKL",
    "outputId": "38c94f83-752e-4e6d-8439-b42692b6f9f1",
    "pycharm": {
     "is_executing": false
    }
   },
   "outputs": [
    {
     "name": "stdout",
     "output_type": "stream",
     "text": [
      "[0]\tvalidation_0-auc:0.761589\tvalidation_1-auc:0.692451\n",
      "Multiple eval metrics have been passed: 'validation_1-auc' will be used for early stopping.\n",
      "\n",
      "Will train until validation_1-auc hasn't improved in 100 rounds.\n",
      "[99]\tvalidation_0-auc:0.947201\tvalidation_1-auc:0.735064\n",
      "Validacion cruzada: 0.74 (+/- 0.01)\n",
      "Validacion cruzada: 0.78 (+/- 0.01)\n",
      "Validacion cruzada: 0.87 (+/- 0.00)\n",
      "Validacion cruzada: 0.77 (+/- 0.00)\n",
      "Validacion cruzada Accuracy: 0.72 (+/- 0.03)\n",
      "Validacion cruzada Precision: 0.78 (+/- 0.00)\n",
      "Validacion cruzadaRecall: 0.84 (+/- 0.05)\n",
      "Validacion cruzada roc_auc: 0.71 (+/- 0.02)\n",
      "[[ 24  35]\n",
      " [ 13 128]]\n",
      "              precision    recall  f1-score   support\n",
      "\n",
      "           0       0.65      0.41      0.50        59\n",
      "           1       0.79      0.91      0.84       141\n",
      "\n",
      "    accuracy                           0.76       200\n",
      "   macro avg       0.72      0.66      0.67       200\n",
      "weighted avg       0.74      0.76      0.74       200\n",
      "\n",
      "\n",
      "\n",
      "Modelo final con Accuracy: 0.760000\n"
     ]
    },
    {
     "name": "stderr",
     "output_type": "stream",
     "text": [
      "/home/xus/PycharmProjects/machine-learning/venv/lib/python3.5/site-packages/matplotlib/legend.py:497: UserWarning: Unrecognized location \"Arriva izquierda\". Falling back on \"best\"; valid locations are\n",
      "\tcenter right\n",
      "\tupper center\n",
      "\tlower right\n",
      "\tupper right\n",
      "\tcenter\n",
      "\tlower left\n",
      "\tupper left\n",
      "\tbest\n",
      "\tlower center\n",
      "\tright\n",
      "\tcenter left\n",
      "\n",
      "  % (loc, '\\n\\t'.join(self.codes)))\n"
     ]
    },
    {
     "data": {
      "image/png": "[encoded data removed]",
      "text/plain": [
       "<Figure size 432x288 with 1 Axes>"
      ]
     },
     "metadata": {},
     "output_type": "display_data"
    },
    {
     "data": {
      "text/plain": [
       "XGBClassifier(base_score=0.5, booster='gbtree', colsample_bylevel=1,\n",
       "              colsample_bynode=1, colsample_bytree=1, gamma=0,\n",
       "              learning_rate=0.1, max_delta_step=0, max_depth=3,\n",
       "              min_child_weight=1, missing=None, n_estimators=51, n_jobs=1,\n",
       "              nthread=None, objective='binary:logistic', random_state=0,\n",
       "              reg_alpha=0, reg_lambda=1, scale_pos_weight=1, seed=None,\n",
       "              silent=None, subsample=1, verbosity=1)"
      ]
     },
     "execution_count": 84,
     "metadata": {},
     "output_type": "execute_result"
    }
   ],
   "source": [
    "params={}\n",
    "xgbclf(params, X_train_clean, y_train_clean, X_test_clean, y_test_clean)"
   ]
  },
  {
   "cell_type": "markdown",
   "metadata": {
    "_uuid": "10ebb57456ac4233b77b1ad284c15984aee73a1c"
   },
   "source": [
    "### XGBoost  1"
   ]
  },
  {
   "cell_type": "code",
   "execution_count": 85,
   "metadata": {
    "_uuid": "9b27e5641d57347d244ebc33a634c35a3a8e0947",
    "pycharm": {
     "is_executing": false
    }
   },
   "outputs": [
    {
     "name": "stdout",
     "output_type": "stream",
     "text": [
      "[0]\tvalidation_0-auc:0.788664\tvalidation_1-auc:0.708258\n",
      "Multiple eval metrics have been passed: 'validation_1-auc' will be used for early stopping.\n",
      "\n",
      "Will train until validation_1-auc hasn't improved in 100 rounds.\n",
      "[100]\tvalidation_0-auc:0.893809\tvalidation_1-auc:0.780803\n",
      "Stopping. Best iteration:\n",
      "[9]\tvalidation_0-auc:0.873373\tvalidation_1-auc:0.785611\n",
      "\n",
      "Validacion cruzada: 0.75 (+/- 0.00)\n",
      "Validacion cruzada: 0.76 (+/- 0.00)\n",
      "Validacion cruzada: 0.93 (+/- 0.01)\n",
      "Validacion cruzada: 0.75 (+/- 0.00)\n",
      "Validacion cruzada Accuracy: 0.73 (+/- 0.02)\n",
      "Validacion cruzada Precision: 0.72 (+/- 0.01)\n",
      "Validacion cruzadaRecall: 1.00 (+/- 0.00)\n",
      "Validacion cruzada roc_auc: 0.67 (+/- 0.02)\n",
      "[[ 23  36]\n",
      " [  5 136]]\n",
      "              precision    recall  f1-score   support\n",
      "\n",
      "           0       0.82      0.39      0.53        59\n",
      "           1       0.79      0.96      0.87       141\n",
      "\n",
      "    accuracy                           0.80       200\n",
      "   macro avg       0.81      0.68      0.70       200\n",
      "weighted avg       0.80      0.80      0.77       200\n",
      "\n",
      "\n",
      "\n",
      "Modelo final con Accuracy: 0.795000\n"
     ]
    },
    {
     "name": "stderr",
     "output_type": "stream",
     "text": [
      "/home/xus/PycharmProjects/machine-learning/venv/lib/python3.5/site-packages/matplotlib/legend.py:497: UserWarning: Unrecognized location \"Arriva izquierda\". Falling back on \"best\"; valid locations are\n",
      "\tcenter right\n",
      "\tupper center\n",
      "\tlower right\n",
      "\tupper right\n",
      "\tcenter\n",
      "\tlower left\n",
      "\tupper left\n",
      "\tbest\n",
      "\tlower center\n",
      "\tright\n",
      "\tcenter left\n",
      "\n",
      "  % (loc, '\\n\\t'.join(self.codes)))\n"
     ]
    },
    {
     "data": {
      "image/png": "[encoded data removed]",
      "text/plain": [
       "<Figure size 432x288 with 1 Axes>"
      ]
     },
     "metadata": {},
     "output_type": "display_data"
    },
    {
     "data": {
      "text/plain": [
       "XGBClassifier(base_score=0.5, booster='gbtree', colsample_bylevel=1,\n",
       "              colsample_bynode=1, colsample_bytree=0.7, gamma=0,\n",
       "              learning_rate=0.005, max_delta_step=0, max_depth=8,\n",
       "              min_child_weight=3, missing=None, n_estimators=10, n_jobs=-1,\n",
       "              nthread=None, objective='binary:logistic', random_state=0,\n",
       "              reg_alpha=0, reg_lambda=1, scale_pos_weight=1, seed=None,\n",
       "              silent=None, subsample=0.555, verbosity=1)"
      ]
     },
     "execution_count": 85,
     "metadata": {},
     "output_type": "execute_result"
    }
   ],
   "source": [
    "params={}\n",
    "\n",
    "params1={\n",
    "    'n_estimators':3000,\n",
    "    'objective': 'binary:logistic',\n",
    "    'learning_rate': 0.05,\n",
    "    'gamma':0.1,\n",
    "    'subsample':0.8,\n",
    "    'colsample_bytree':0.3,\n",
    "    'min_child_weight':3,\n",
    "    'max_depth':3,\n",
    "    #'seed':1024,\n",
    "    'n_jobs' : -1\n",
    "}\n",
    "\n",
    "params2={\n",
    "    'n_estimators':3000,\n",
    "    'objective': 'binary:logistic',\n",
    "    'learning_rate': 0.005,\n",
    "    #'gamma':0.01,\n",
    "    'subsample':0.555,\n",
    "    'colsample_bytree':0.7,\n",
    "    'min_child_weight':3,\n",
    "    'max_depth':8,\n",
    "    #'seed':1024,\n",
    "    'n_jobs' : -1\n",
    "}\n",
    "\n",
    "xgbclf(params2, X_train_clean, y_train_clean, X_test_clean, y_test_clean)"
   ]
  },
  {
   "cell_type": "markdown",
   "metadata": {
    "_uuid": "b14d322c24858a4b4ec4656bd96eb3a1843802e1",
    "colab_type": "text",
    "id": "bFxEnRYVD_Xe"
   },
   "source": [
    "<a id=\"Dataset\"></a> <br>\n"
   ]
  },
  {
   "cell_type": "code",
   "execution_count": 86,
   "metadata": {
    "_uuid": "bfba5a9de83536e8ee9635d98339dfd33b7d657a",
    "colab": {
     "autoexec": {
      "startup": false,
      "wait_interval": 0
     },
     "base_uri": "https://localhost:8080/",
     "height": 170
    },
    "colab_type": "code",
    "executionInfo": {
     "elapsed": 664,
     "status": "ok",
     "timestamp": 1531189121767,
     "user": {
      "displayName": "M Hendra Herviawan",
      "photoUrl": "https://lh3.googleusercontent.com/a/default-user=s128",
      "userId": "116685199798904688878"
     },
     "user_tz": -420
    },
    "id": "5NEgnXdM1U0J",
    "outputId": "d3404eb4-ed88-46ea-ab18-60b259a22ed2",
    "pycharm": {
     "is_executing": false
    }
   },
   "outputs": [
    {
     "name": "stdout",
     "output_type": "stream",
     "text": [
      "Antes/Despues de la limpieza \n",
      "{0: 241, 1: 559}\n",
      "{0: 559, 1: 559}\n"
     ]
    }
   ],
   "source": [
    "\n",
    "from imblearn.over_sampling import SMOTE\n",
    "\n",
    "# Hacempos ooversampling\n",
    "# http://contrib.scikit-learn.org/imbalanced-learn/auto_examples/combine/plot_smote_enn.html#sphx-glr-auto-examples-combine-plot-smote-enn-py\n",
    "\n",
    "sm = SMOTE(ratio='auto')\n",
    "X_train_clean_res, y_train_clean_res = sm.fit_sample(X_train_clean, y_train_clean)\n",
    "\n",
    "# Lo que hacemos ahora es corregir el problema de que no hay el mismo numero de buenos y malos.Para corregir eso hacemos\n",
    "# oversampling.\n",
    "print(\"Antes/Despues de la limpieza \")\n",
    "unique, counts = np.unique(y_train_clean, return_counts=True)\n",
    "print(dict(zip(unique, counts)))\n",
    "unique, counts = np.unique(y_train_clean_res, return_counts=True)\n",
    "print(dict(zip(unique, counts)))"
   ]
  },
  {
   "cell_type": "code",
   "execution_count": 87,
   "metadata": {
    "_uuid": "b8a7a3c79685af31aecb2ade360415f92a30460b",
    "colab": {
     "autoexec": {
      "startup": false,
      "wait_interval": 0
     }
    },
    "colab_type": "code",
    "id": "h2-muneU1U9H",
    "pycharm": {
     "is_executing": false
    }
   },
   "outputs": [],
   "source": [
    "# Separamos los datos en train y dataset\n",
    "X_train_clean_res = pd.DataFrame(X_train_clean_res, columns=X_train_clean.keys())\n"
   ]
  },
  {
   "cell_type": "code",
   "execution_count": 88,
   "metadata": {
    "_uuid": "3a8b147901159dc4ac09fa2efd4d5d9578f97b99",
    "colab": {
     "autoexec": {
      "startup": false,
      "wait_interval": 0
     },
     "base_uri": "https://localhost:8080/",
     "height": 85
    },
    "colab_type": "code",
    "executionInfo": {
     "elapsed": 695,
     "status": "ok",
     "timestamp": 1531189123494,
     "user": {
      "displayName": "M Hendra Herviawan",
      "photoUrl": "https://lh3.googleusercontent.com/a/default-user=s128",
      "userId": "116685199798904688878"
     },
     "user_tz": -420
    },
    "id": "C-yIxVQkUZyW",
    "outputId": "ae623e97-04e8-4417-8311-3da47f9b94e3",
    "pycharm": {
     "is_executing": false
    }
   },
   "outputs": [
    {
     "name": "stdout",
     "output_type": "stream",
     "text": [
      "(1118, 61)\n",
      "(1118,)\n",
      "(200, 61)\n",
      "(200,)\n"
     ]
    }
   ],
   "source": [
    "print(np.shape(X_train_clean_res))\n",
    "print(np.shape(y_train_clean_res))\n",
    "print(np.shape(X_test_clean)) \n",
    "print(np.shape(y_test_clean))"
   ]
  },
  {
   "cell_type": "markdown",
   "metadata": {
    "_uuid": "04626b0c29b5a77a013fedfee30b55b4d92b684b"
   },
   "source": [
    "### XGBoost 2"
   ]
  },
  {
   "cell_type": "code",
   "execution_count": 89,
   "metadata": {
    "_uuid": "ca524e248c28f147289605a30f68b11ecabe4559",
    "colab": {
     "autoexec": {
      "startup": false,
      "wait_interval": 0
     },
     "base_uri": "https://localhost:8080/",
     "height": 886
    },
    "colab_type": "code",
    "executionInfo": {
     "elapsed": 1321,
     "status": "ok",
     "timestamp": 1531189328790,
     "user": {
      "displayName": "M Hendra Herviawan",
      "photoUrl": "https://lh3.googleusercontent.com/a/default-user=s128",
      "userId": "116685199798904688878"
     },
     "user_tz": -420
    },
    "id": "NQ5P5oG0IwIS",
    "outputId": "3f402469-f7d9-496d-e772-059ef4ef0aec",
    "pycharm": {
     "is_executing": false
    }
   },
   "outputs": [
    {
     "name": "stdout",
     "output_type": "stream",
     "text": [
      "[0]\tvalidation_0-auc:0.818509\tvalidation_1-auc:0.687823\n",
      "Multiple eval metrics have been passed: 'validation_1-auc' will be used for early stopping.\n",
      "\n",
      "Will train until validation_1-auc hasn't improved in 100 rounds.\n",
      "[99]\tvalidation_0-auc:0.970968\tvalidation_1-auc:0.748648\n",
      "Validacion cruzada: 0.75 (+/- 0.08)\n",
      "Validacion cruzada: 0.80 (+/- 0.19)\n",
      "Validacion cruzada: 0.80 (+/- 0.13)\n",
      "Validacion cruzada: 0.87 (+/- 0.08)\n",
      "Validacion cruzada Accuracy: 0.73 (+/- 0.02)\n",
      "Validacion cruzada Precision: 0.78 (+/- 0.00)\n",
      "Validacion cruzadaRecall: 0.85 (+/- 0.05)\n",
      "Validacion cruzada roc_auc: 0.72 (+/- 0.01)\n",
      "[[ 31  28]\n",
      " [ 27 114]]\n",
      "              precision    recall  f1-score   support\n",
      "\n",
      "           0       0.53      0.53      0.53        59\n",
      "           1       0.80      0.81      0.81       141\n",
      "\n",
      "    accuracy                           0.73       200\n",
      "   macro avg       0.67      0.67      0.67       200\n",
      "weighted avg       0.72      0.72      0.72       200\n",
      "\n",
      "\n",
      "\n",
      "Modelo final con Accuracy: 0.725000\n"
     ]
    },
    {
     "name": "stderr",
     "output_type": "stream",
     "text": [
      "/home/xus/PycharmProjects/machine-learning/venv/lib/python3.5/site-packages/matplotlib/legend.py:497: UserWarning: Unrecognized location \"Arriva izquierda\". Falling back on \"best\"; valid locations are\n",
      "\tcenter right\n",
      "\tupper center\n",
      "\tlower right\n",
      "\tupper right\n",
      "\tcenter\n",
      "\tlower left\n",
      "\tupper left\n",
      "\tbest\n",
      "\tlower center\n",
      "\tright\n",
      "\tcenter left\n",
      "\n",
      "  % (loc, '\\n\\t'.join(self.codes)))\n"
     ]
    },
    {
     "data": {
      "image/png": "[encoded data removed]",
      "text/plain": [
       "<Figure size 432x288 with 1 Axes>"
      ]
     },
     "metadata": {},
     "output_type": "display_data"
    },
    {
     "data": {
      "text/plain": [
       "XGBClassifier(base_score=0.5, booster='gbtree', colsample_bylevel=1,\n",
       "              colsample_bynode=1, colsample_bytree=1, gamma=0,\n",
       "              learning_rate=0.1, max_delta_step=0, max_depth=3,\n",
       "              min_child_weight=1, missing=None, n_estimators=31, n_jobs=1,\n",
       "              nthread=None, objective='binary:logistic', random_state=0,\n",
       "              reg_alpha=0, reg_lambda=1, scale_pos_weight=1, seed=None,\n",
       "              silent=None, subsample=1, verbosity=1)"
      ]
     },
     "execution_count": 89,
     "metadata": {},
     "output_type": "execute_result"
    }
   ],
   "source": [
    "# modelo base\n",
    "params={}\n",
    "xgbclf(params,X_train_clean_res, y_train_clean_res,X_test_clean, y_test_clean)"
   ]
  },
  {
   "cell_type": "markdown",
   "metadata": {
    "_uuid": "71a3040a7d73bfa3aba166e10d804f9257d8bde8",
    "colab_type": "text",
    "id": "RjlSw9En1P4p"
   },
   "source": [
    "### XGBoost 2b: "
   ]
  },
  {
   "cell_type": "code",
   "execution_count": 90,
   "metadata": {
    "_uuid": "11855f908fb13b97d120ea375c75ab13885d9e43",
    "colab": {
     "autoexec": {
      "startup": false,
      "wait_interval": 0
     },
     "base_uri": "https://localhost:8080/",
     "height": 1403
    },
    "colab_type": "code",
    "executionInfo": {
     "elapsed": 2539,
     "status": "ok",
     "timestamp": 1531192901612,
     "user": {
      "displayName": "M Hendra Herviawan",
      "photoUrl": "https://lh3.googleusercontent.com/a/default-user=s128",
      "userId": "116685199798904688878"
     },
     "user_tz": -420
    },
    "id": "x9PHpLlJoNFz",
    "outputId": "ed2910d2-4508-49d9-d1be-575c07625fb6",
    "pycharm": {
     "is_executing": false
    },
    "scrolled": true
   },
   "outputs": [
    {
     "name": "stdout",
     "output_type": "stream",
     "text": [
      "[0]\tvalidation_0-auc:0.851281\tvalidation_1-auc:0.618824\n",
      "Multiple eval metrics have been passed: 'validation_1-auc' will be used for early stopping.\n",
      "\n",
      "Will train until validation_1-auc hasn't improved in 100 rounds.\n",
      "[100]\tvalidation_0-auc:0.949904\tvalidation_1-auc:0.779781\n",
      "Stopping. Best iteration:\n",
      "[51]\tvalidation_0-auc:0.947467\tvalidation_1-auc:0.783387\n",
      "\n",
      "Validacion cruzada: 0.75 (+/- 0.07)\n",
      "Validacion cruzada: 0.80 (+/- 0.17)\n",
      "Validacion cruzada: 0.79 (+/- 0.13)\n",
      "Validacion cruzada: 0.87 (+/- 0.08)\n",
      "Validacion cruzada Accuracy: 0.73 (+/- 0.00)\n",
      "Validacion cruzada Precision: 0.72 (+/- 0.00)\n",
      "Validacion cruzadaRecall: 0.99 (+/- 0.01)\n",
      "Validacion cruzada roc_auc: 0.70 (+/- 0.02)\n",
      "[[ 29  30]\n",
      " [ 15 126]]\n",
      "              precision    recall  f1-score   support\n",
      "\n",
      "           0       0.66      0.49      0.56        59\n",
      "           1       0.81      0.89      0.85       141\n",
      "\n",
      "    accuracy                           0.78       200\n",
      "   macro avg       0.73      0.69      0.71       200\n",
      "weighted avg       0.76      0.78      0.76       200\n",
      "\n",
      "\n",
      "\n",
      "Modelo final con Accuracy: 0.775000\n"
     ]
    },
    {
     "name": "stderr",
     "output_type": "stream",
     "text": [
      "/home/xus/PycharmProjects/machine-learning/venv/lib/python3.5/site-packages/matplotlib/legend.py:497: UserWarning: Unrecognized location \"Arriva izquierda\". Falling back on \"best\"; valid locations are\n",
      "\tcenter right\n",
      "\tupper center\n",
      "\tlower right\n",
      "\tupper right\n",
      "\tcenter\n",
      "\tlower left\n",
      "\tupper left\n",
      "\tbest\n",
      "\tlower center\n",
      "\tright\n",
      "\tcenter left\n",
      "\n",
      "  % (loc, '\\n\\t'.join(self.codes)))\n"
     ]
    },
    {
     "data": {
      "image/png": "[encoded data removed]",
      "text/plain": [
       "<Figure size 432x288 with 1 Axes>"
      ]
     },
     "metadata": {},
     "output_type": "display_data"
    },
    {
     "data": {
      "text/plain": [
       "XGBClassifier(base_score=0.5, booster='gbtree', colsample_bylevel=1,\n",
       "              colsample_bynode=1, colsample_bytree=0.7, gamma=0,\n",
       "              learning_rate=0.005, max_delta_step=0, max_depth=8,\n",
       "              min_child_weight=3, missing=None, n_estimators=52, n_jobs=-1,\n",
       "              nthread=None, objective='binary:logistic', random_state=0,\n",
       "              reg_alpha=0, reg_lambda=1, scale_pos_weight=1, seed=None,\n",
       "              silent=None, subsample=0.555, verbosity=1)"
      ]
     },
     "execution_count": 90,
     "metadata": {},
     "output_type": "execute_result"
    }
   ],
   "source": [
    "params = {}\n",
    "\n",
    "params1={\n",
    "    'n_estimators':3000,\n",
    "    'objective': 'binary:logistic',\n",
    "    'learning_rate': 0.05,\n",
    "    'gamma':0.1,\n",
    "    'subsample':0.8,\n",
    "    'colsample_bytree':0.3,\n",
    "    'min_child_weight':3,\n",
    "    'max_depth':3,\n",
    "    #'seed':1024,\n",
    "    'n_jobs' : -1\n",
    "}\n",
    "\n",
    "params2={\n",
    "    'n_estimators':3000,\n",
    "    'objective': 'binary:logistic',\n",
    "    'learning_rate': 0.005,\n",
    "    #'gamma':0.01,\n",
    "    'subsample':0.555,\n",
    "    'colsample_bytree':0.7,\n",
    "    'min_child_weight':3,\n",
    "    'max_depth':8,\n",
    "    #'seed':1024,\n",
    "    'n_jobs' : -1\n",
    "}\n",
    "\n",
    "#xgbclf(params, X_train, y_train,X_test,y_test)\n",
    "model = xgbclf(params2,X_train_clean_res, y_train_clean_res,X_test_clean, y_test_clean)\n",
    "model\n"
   ]
  },
  {
   "cell_type": "markdown",
   "metadata": {
    "_uuid": "518227609cbeb12fa67390bd5a097ddc7bd2f71a",
    "colab_type": "text",
    "id": "T0uGUXyUa4h_"
   },
   "source": [
    "# 4.  Selccion de variables\n",
    "- XGBoost3 Modelo base\n",
    "- GridSearchCV "
   ]
  },
  {
   "cell_type": "code",
   "execution_count": 91,
   "metadata": {
    "_uuid": "c9da497ba8de093a285cf4ffbec4535219c74466",
    "colab": {
     "autoexec": {
      "startup": false,
      "wait_interval": 0
     }
    },
    "colab_type": "code",
    "id": "vOISYxySN4qJ",
    "pycharm": {
     "is_executing": false
    }
   },
   "outputs": [],
   "source": [
    "#model = xgbclf(params1,X_train_clean_res[importance_col], y_train_clean_res,X_test_clean[importance_col], y_test_clean)\n",
    "\n",
    "importances = model.feature_importances_\n",
    "importance_frame = pd.DataFrame({'Importance': list(importances), 'Feature': list(X_train_clean_res.keys())})\n",
    "importance_frame.sort_values(by = 'Importance', inplace = True, ascending=False)\n",
    "importance_col = importance_frame.Feature.head(10).values"
   ]
  },
  {
   "cell_type": "markdown",
   "metadata": {
    "_uuid": "a2ce51442a79c7a28776f90153e4107737183abd"
   },
   "source": [
    "### XGBoost3 Modelo base"
   ]
  },
  {
   "cell_type": "code",
   "execution_count": 92,
   "metadata": {
    "_uuid": "17ef3ab68a22b1af2a31b58e0a452a72e0db19bd",
    "colab": {
     "autoexec": {
      "startup": false,
      "wait_interval": 0
     },
     "base_uri": "https://localhost:8080/",
     "height": 1056
    },
    "colab_type": "code",
    "executionInfo": {
     "elapsed": 1923,
     "status": "ok",
     "timestamp": 1531195815598,
     "user": {
      "displayName": "M Hendra Herviawan",
      "photoUrl": "https://lh3.googleusercontent.com/a/default-user=s128",
      "userId": "116685199798904688878"
     },
     "user_tz": -420
    },
    "id": "LwqK7dpAX7nn",
    "outputId": "e4689e0c-52b0-476a-b84c-e47da4028a37",
    "pycharm": {
     "is_executing": false
    }
   },
   "outputs": [
    {
     "name": "stdout",
     "output_type": "stream",
     "text": [
      "[0]\tvalidation_0-auc:0.811014\tvalidation_1-auc:0.687282\n",
      "Multiple eval metrics have been passed: 'validation_1-auc' will be used for early stopping.\n",
      "\n",
      "Will train until validation_1-auc hasn't improved in 100 rounds.\n",
      "[99]\tvalidation_0-auc:0.891585\tvalidation_1-auc:0.741195\n",
      "Validacion cruzada: 0.76 (+/- 0.09)\n",
      "Validacion cruzada: 0.80 (+/- 0.18)\n",
      "Validacion cruzada: 0.80 (+/- 0.07)\n",
      "Validacion cruzada: 0.86 (+/- 0.09)\n",
      "Validacion cruzada Accuracy: 0.70 (+/- 0.01)\n",
      "Validacion cruzada Precision: 0.76 (+/- 0.00)\n",
      "Validacion cruzadaRecall: 0.84 (+/- 0.01)\n",
      "Validacion cruzada roc_auc: 0.66 (+/- 0.00)\n",
      "[[ 30  29]\n",
      " [ 27 114]]\n",
      "              precision    recall  f1-score   support\n",
      "\n",
      "           0       0.53      0.51      0.52        59\n",
      "           1       0.80      0.81      0.80       141\n",
      "\n",
      "    accuracy                           0.72       200\n",
      "   macro avg       0.66      0.66      0.66       200\n",
      "weighted avg       0.72      0.72      0.72       200\n",
      "\n",
      "\n",
      "\n",
      "Modelo final con Accuracy: 0.720000\n"
     ]
    },
    {
     "name": "stderr",
     "output_type": "stream",
     "text": [
      "/home/xus/PycharmProjects/machine-learning/venv/lib/python3.5/site-packages/matplotlib/legend.py:497: UserWarning: Unrecognized location \"Arriva izquierda\". Falling back on \"best\"; valid locations are\n",
      "\tcenter right\n",
      "\tupper center\n",
      "\tlower right\n",
      "\tupper right\n",
      "\tcenter\n",
      "\tlower left\n",
      "\tupper left\n",
      "\tbest\n",
      "\tlower center\n",
      "\tright\n",
      "\tcenter left\n",
      "\n",
      "  % (loc, '\\n\\t'.join(self.codes)))\n"
     ]
    },
    {
     "data": {
      "image/png": "[encoded data removed]",
      "text/plain": [
       "<Figure size 432x288 with 1 Axes>"
      ]
     },
     "metadata": {},
     "output_type": "display_data"
    },
    {
     "data": {
      "text/plain": [
       "XGBClassifier(base_score=0.5, booster='gbtree', colsample_bylevel=1,\n",
       "              colsample_bynode=1, colsample_bytree=1, gamma=0,\n",
       "              learning_rate=0.1, max_delta_step=0, max_depth=3,\n",
       "              min_child_weight=1, missing=None, n_estimators=71, n_jobs=1,\n",
       "              nthread=None, objective='binary:logistic', random_state=0,\n",
       "              reg_alpha=0, reg_lambda=1, scale_pos_weight=1, seed=None,\n",
       "              silent=None, subsample=1, verbosity=1)"
      ]
     },
     "execution_count": 92,
     "metadata": {},
     "output_type": "execute_result"
    }
   ],
   "source": [
    "params = {}\n",
    "\n",
    "params1={\n",
    "    'n_estimators':3000,\n",
    "    'objective': 'binary:logistic',\n",
    "    'learning_rate': 0.01,\n",
    "    #'gamma':0.1,\n",
    "    #'subsample':0.8,\n",
    "    #'colsample_bytree':0.3,\n",
    "    #'min_child_weight':3,\n",
    "    'max_depth':3,\n",
    "    #'seed':1024,\n",
    "    'n_jobs' : -1\n",
    "}\n",
    "\n",
    "xgbclf(params,X_train_clean_res[importance_col], y_train_clean_res,X_test_clean[importance_col], y_test_clean)"
   ]
  },
  {
   "cell_type": "markdown",
   "metadata": {
    "_uuid": "f8037e33ee37292b23413304ceff57026c6b49e1",
    "colab_type": "text",
    "id": "Wxgbu6HbrstB"
   },
   "source": [
    "### GridSearchCV \n",
    "Esto lo que hace es buscar el mejor modelo que pasandole multipes parametros de entrada."
   ]
  },
  {
   "cell_type": "code",
   "execution_count": 93,
   "metadata": {
    "_uuid": "105346b26c0fe9e4cba1b68b6194be9d70b50701",
    "colab": {
     "autoexec": {
      "startup": false,
      "wait_interval": 0
     },
     "base_uri": "https://localhost:8080/",
     "height": 187
    },
    "colab_type": "code",
    "executionInfo": {
     "elapsed": 3066,
     "status": "ok",
     "timestamp": 1531196561870,
     "user": {
      "displayName": "M Hendra Herviawan",
      "photoUrl": "https://lh3.googleusercontent.com/a/default-user=s128",
      "userId": "116685199798904688878"
     },
     "user_tz": -420
    },
    "id": "m7lf_As9oUvh",
    "outputId": "6ff51851-0fe9-4c53-c5cf-315fa84143e4",
    "pycharm": {
     "is_executing": false
    }
   },
   "outputs": [
    {
     "name": "stdout",
     "output_type": "stream",
     "text": [
      "XGBoost with grid search\n",
      "XGBClassifier(base_score=0.5, booster='gbtree', colsample_bylevel=1,\n",
      "              colsample_bynode=1, colsample_bytree=1, gamma=0,\n",
      "              learning_rate=0.01, max_delta_step=0, max_depth=3,\n",
      "              min_child_weight=1, missing=None, n_estimators=400, n_jobs=1,\n",
      "              nthread=None, objective='binary:logistic', random_state=0,\n",
      "              reg_alpha=0, reg_lambda=1, scale_pos_weight=1, seed=None,\n",
      "              silent=None, subsample=1, verbosity=1)\n",
      "0.8660289042040731\n",
      "0.7298954201226108\n"
     ]
    }
   ],
   "source": [
    "from sklearn.model_selection import GridSearchCV\n",
    "\n",
    "print('XGBoost with grid search')\n",
    "# play with these params\n",
    "params={\n",
    "    'learning_rate': [0.01, 0.02],\n",
    "    'max_depth': [3], # 5 is good but takes too long in kaggle env\n",
    "    #'subsample': [0.6], #[0.4,0.5,0.6,0.7,0.8,0.9,1.0],\n",
    "    #'colsample_bytree': [0.5], #[0.5,0.6,0.7,0.8],\n",
    "    'n_estimators': [50, 100, 200, 300, 400, 500]\n",
    "    #'reg_alpha': [0.03] #[0.01, 0.02, 0.03, 0.04]\n",
    "}\n",
    "\n",
    "\n",
    "xgb_clf = xgb.XGBClassifier()\n",
    "\n",
    "rs = GridSearchCV(xgb_clf,\n",
    "                  params,\n",
    "                  cv=2,\n",
    "                  scoring=\"roc_auc\",\n",
    "                  n_jobs=1,\n",
    "                  verbose=False)\n",
    "rs.fit(X_train_clean_res[importance_col], y_train_clean_res)\n",
    "best_est = rs.best_estimator_\n",
    "print(best_est)\n",
    "\n",
    "# Test \n",
    "print(rs.score(X_test_clean[importance_col],y_test_clean))\n",
    "\n"
   ]
  },
  {
   "cell_type": "markdown",
   "metadata": {
    "_uuid": "d2fe0b7ea9b605569bdfa60b39faf7d6965bfde0"
   },
   "source": [
    "<a id=\"Others\"></a> <br>\n",
    "# 5. Otros algorimos\n",
    "- Lighgbm \n",
    "- LogisticRegression \n",
    "- RandomForestClassifier \n",
    "- ExtraTreesClassifier \n",
    "- DecisionTreeClassifier\n",
    "- GradientBoostingClassifier \n",
    "- AdaBoostClassifier"
   ]
  },
  {
   "cell_type": "markdown",
   "metadata": {
    "_uuid": "360450a8797f752a9d9b09a4c4a16d72dbe0b071",
    "colab_type": "text",
    "id": "Pce2PcrQryuY"
   },
   "source": [
    "### Lighgbm\n"
   ]
  },
  {
   "cell_type": "code",
   "execution_count": 94,
   "metadata": {
    "_uuid": "432aa50546f660ed1ae9b4ab064bbea7b6f54e03",
    "pycharm": {
     "is_executing": false
    }
   },
   "outputs": [
    {
     "name": "stdout",
     "output_type": "stream",
     "text": [
      "LGBMClassifier(boosting_type='gbdt', class_weight=None, colsample_bytree=1.0,\n",
      "               importance_type='split', learning_rate=0.1, max_depth=-1,\n",
      "               min_child_samples=20, min_child_weight=0.001, min_split_gain=0.0,\n",
      "               n_estimators=100, n_jobs=-1, num_leaves=31, objective=None,\n",
      "               random_state=None, reg_alpha=0.0, reg_lambda=0.0, silent=True,\n",
      "               subsample=1.0, subsample_for_bin=200000, subsample_freq=0) \n",
      "\n"
     ]
    },
    {
     "name": "stderr",
     "output_type": "stream",
     "text": [
      "/home/xus/PycharmProjects/machine-learning/venv/lib/python3.5/site-packages/matplotlib/legend.py:497: UserWarning: Unrecognized location \"Arriva izquierda\". Falling back on \"best\"; valid locations are\n",
      "\tcenter right\n",
      "\tupper center\n",
      "\tlower right\n",
      "\tupper right\n",
      "\tcenter\n",
      "\tlower left\n",
      "\tupper left\n",
      "\tbest\n",
      "\tlower center\n",
      "\tright\n",
      "\tcenter left\n",
      "\n",
      "  % (loc, '\\n\\t'.join(self.codes)))\n"
     ]
    },
    {
     "data": {
      "image/png": "[encoded data removed]",
      "text/plain": [
       "<Figure size 432x288 with 1 Axes>"
      ]
     },
     "metadata": {},
     "output_type": "display_data"
    }
   ],
   "source": [
    "import warnings\n",
    "warnings.filterwarnings(\"ignore\", category=DeprecationWarning) \n",
    "\n",
    "import lightgbm as lgb\n",
    "\n",
    "def lgbclf(X_train, y_train,X_test, y_test):\n",
    "\n",
    "    model = lgb.LGBMClassifier().fit(X_train, y_train)\n",
    "    print(model,'\\n')\n",
    "\n",
    "    # Predecimos \n",
    "    y_pred = model.predict_proba(X_test)[:,1]\n",
    "\n",
    "    # Utilizamos la validazion cruzada.\n",
    "\n",
    "    get_roc (y_test,y_pred)\n",
    "    return\n",
    "\n",
    "# Regrasion Logistica\n",
    "#lgbclf(X_train, y_train,X_test,y_test)\n",
    "lgbclf(X_train_clean_res, y_train_clean_res,X_test_clean, y_test_clean)"
   ]
  },
  {
   "cell_type": "markdown",
   "metadata": {
    "_uuid": "318b9364794e6f1e2da5550bf961885bdccc5825",
    "colab_type": "text",
    "id": "tzhgWR1hry3s"
   },
   "source": [
    "### LogisticRegression "
   ]
  },
  {
   "cell_type": "code",
   "execution_count": 50,
   "metadata": {
    "_uuid": "e0b612a0bab5b2f06e038f37b35868716f97bd00",
    "pycharm": {
     "is_executing": false
    }
   },
   "outputs": [
    {
     "name": "stdout",
     "output_type": "stream",
     "text": [
      "LogisticRegression\n",
      "LogisticRegression(C=1.0, class_weight=None, dual=False, fit_intercept=True,\n",
      "                   intercept_scaling=1, l1_ratio=None, max_iter=100,\n",
      "                   multi_class='warn', n_jobs=None, penalty='l2',\n",
      "                   random_state=None, solver='warn', tol=0.0001, verbose=0,\n",
      "                   warm_start=False) \n",
      "\n"
     ]
    },
    {
     "name": "stderr",
     "output_type": "stream",
     "text": [
      "/home/xus/PycharmProjects/machine-learning/venv/lib/python3.5/site-packages/sklearn/linear_model/logistic.py:432: FutureWarning: Default solver will be changed to 'lbfgs' in 0.22. Specify a solver to silence this warning.\n",
      "  FutureWarning)\n"
     ]
    },
    {
     "data": {
      "image/png": "[encoded data removed]",
      "text/plain": [
       "<Figure size 432x288 with 1 Axes>"
      ]
     },
     "metadata": {},
     "output_type": "display_data"
    }
   ],
   "source": [
    "from sklearn.linear_model import LogisticRegression\n",
    "\n",
    "\n",
    "def logregclf(X_train, y_train,X_test, y_test):\n",
    "    print(\"LogisticRegression\")\n",
    "    model = LogisticRegression().fit(X_train, y_train)\n",
    "    print(model,'\\n')\n",
    "\n",
    "    # Predecimos\n",
    "    y_pred = model.predict_proba(X_test)[:,1]\n",
    "\n",
    "   # Utilizamos la validazion cruzada.\n",
    "    #get_eval(model, X_train, y_train,y_test,y_pred)\n",
    "    #get_eval2(model, X_train, y_train,X_test, y_test,y_pred)\n",
    "    get_roc (y_test,y_pred)\n",
    "    return\n",
    "\n",
    "# Logistic Regression\n",
    "#logregclf(X_train, y_train,X_test,y_test)\n",
    "logregclf(X_train_clean_res, y_train_clean_res,X_test_clean, y_test_clean)"
   ]
  },
  {
   "cell_type": "markdown",
   "metadata": {
    "_uuid": "e95e51b587054a97daf75be89cd308b615feb8ca"
   },
   "source": [
    "### RandomForest "
   ]
  },
  {
   "cell_type": "code",
   "execution_count": 51,
   "metadata": {
    "_uuid": "4b9f601bd07ff3253da4d89352ebd785fc3eeac2",
    "pycharm": {
     "is_executing": false
    }
   },
   "outputs": [
    {
     "name": "stdout",
     "output_type": "stream",
     "text": [
      "RandomForestClassifier\n",
      "RandomForestClassifier(bootstrap=True, class_weight=None, criterion='gini',\n",
      "                       max_depth=None, max_features='auto', max_leaf_nodes=None,\n",
      "                       min_impurity_decrease=0.0, min_impurity_split=None,\n",
      "                       min_samples_leaf=1, min_samples_split=2,\n",
      "                       min_weight_fraction_leaf=0.0, n_estimators=10,\n",
      "                       n_jobs=None, oob_score=False, random_state=None,\n",
      "                       verbose=0, warm_start=False) \n",
      "\n"
     ]
    },
    {
     "name": "stderr",
     "output_type": "stream",
     "text": [
      "/home/xus/PycharmProjects/machine-learning/venv/lib/python3.5/site-packages/sklearn/ensemble/forest.py:245: FutureWarning: The default value of n_estimators will change from 10 in version 0.20 to 100 in 0.22.\n",
      "  \"10 in version 0.20 to 100 in 0.22.\", FutureWarning)\n"
     ]
    },
    {
     "data": {
      "image/png": "[encoded data removed]",
      "text/plain": [
       "<Figure size 432x288 with 1 Axes>"
      ]
     },
     "metadata": {},
     "output_type": "display_data"
    }
   ],
   "source": [
    "from sklearn.ensemble import RandomForestClassifier \n",
    "\n",
    "def randomforestclf(X_train, y_train,X_test, y_test):\n",
    "    print(\"RandomForestClassifier\")\n",
    "    randomforest = RandomForestClassifier().fit(X_train, y_train)\n",
    "    print(randomforest,'\\n')\n",
    "    \n",
    "    # Predict target variables y for test data\n",
    "    y_pred = randomforest.predict_proba(X_test)[:,1]\n",
    "\n",
    "    # Utilizamos la validazion cruzada.\n",
    "    #get_eval(randomforest, X_train, y_train,y_test,y_pred)\n",
    "    get_roc (y_test,y_pred)\n",
    "    return\n",
    "\n",
    "# Random Forest\n",
    "# Elegimos el arbol mas robusto\n",
    "randomforestclf(X_train_clean_res, y_train_clean_res,X_test_clean, y_test_clean)"
   ]
  },
  {
   "cell_type": "markdown",
   "metadata": {
    "_uuid": "75fb46bd9b0ac1493449c6451b2f8a85974d4f86"
   },
   "source": [
    "### ExtraTreesClassifier (ROC_AUC:0.74)"
   ]
  },
  {
   "cell_type": "code",
   "execution_count": 53,
   "metadata": {
    "_uuid": "28df42b00dedfda6ffcfb8235ff0ad2ef42a4bec",
    "pycharm": {
     "is_executing": false
    }
   },
   "outputs": [
    {
     "name": "stdout",
     "output_type": "stream",
     "text": [
      "ExtraTreesClassifier\n",
      "ExtraTreesClassifier(bootstrap=False, class_weight=None, criterion='gini',\n",
      "                     max_depth=None, max_features='auto', max_leaf_nodes=None,\n",
      "                     min_impurity_decrease=0.0, min_impurity_split=None,\n",
      "                     min_samples_leaf=1, min_samples_split=2,\n",
      "                     min_weight_fraction_leaf=0.0, n_estimators=10, n_jobs=None,\n",
      "                     oob_score=False, random_state=None, verbose=0,\n",
      "                     warm_start=False) \n",
      "\n"
     ]
    },
    {
     "name": "stderr",
     "output_type": "stream",
     "text": [
      "/home/xus/PycharmProjects/machine-learning/venv/lib/python3.5/site-packages/sklearn/ensemble/forest.py:245: FutureWarning: The default value of n_estimators will change from 10 in version 0.20 to 100 in 0.22.\n",
      "  \"10 in version 0.20 to 100 in 0.22.\", FutureWarning)\n"
     ]
    },
    {
     "data": {
      "image/png": "[encoded data removed]",
      "text/plain": [
       "<Figure size 432x288 with 1 Axes>"
      ]
     },
     "metadata": {},
     "output_type": "display_data"
    }
   ],
   "source": [
    "from sklearn.ensemble import ExtraTreesClassifier\n",
    "\n",
    "def extratreesclf(X_train, y_train,X_test, y_test):\n",
    "    print(\"ExtraTreesClassifier\")\n",
    "    extratrees = ExtraTreesClassifier().fit(X_train, y_train)\n",
    "    print(extratrees,'\\n')\n",
    "    \n",
    "    # Predecimos \n",
    "    y_pred = extratrees.predict_proba(X_test)[:,1]\n",
    "\n",
    "    # Utilizamos la validazion cruzada.\n",
    "    #get_eval(extratrees, X_train, y_train,y_test,y_pred)\n",
    "    \n",
    "    get_roc (y_test,y_pred)\n",
    "    return\n",
    " \n",
    "# Elegimos muchos arblos y elegimos el mas robusto\n",
    "# Choose clean data, as tree is robust\n",
    "extratreesclf(X_train_clean_res, y_train_clean_res,X_test_clean, y_test_clean)"
   ]
  },
  {
   "cell_type": "markdown",
   "metadata": {
    "_uuid": "d08be5c932aa326666c8865f5c1ce15f5f7984b4"
   },
   "source": [
    "### DecisionTreeClassifier (ROC_AUC:0.64)"
   ]
  },
  {
   "cell_type": "code",
   "execution_count": 52,
   "metadata": {
    "_uuid": "07c8334d26469b64ded21db507d7d246d0ba05f6",
    "pycharm": {
     "is_executing": false
    }
   },
   "outputs": [
    {
     "name": "stdout",
     "output_type": "stream",
     "text": [
      "DecisionTreeClassifier\n",
      "DecisionTreeClassifier(class_weight=None, criterion='gini', max_depth=None,\n",
      "                       max_features=None, max_leaf_nodes=None,\n",
      "                       min_impurity_decrease=0.0, min_impurity_split=None,\n",
      "                       min_samples_leaf=5, min_samples_split=10,\n",
      "                       min_weight_fraction_leaf=0.0, presort=False,\n",
      "                       random_state=None, splitter='best') \n",
      "\n"
     ]
    },
    {
     "data": {
      "image/png": "[encoded data removed]",
      "text/plain": [
       "<Figure size 432x288 with 1 Axes>"
      ]
     },
     "metadata": {},
     "output_type": "display_data"
    }
   ],
   "source": [
    "from sklearn.tree import DecisionTreeClassifier \n",
    "def dectreeclf(X_train, y_train,X_test, y_test):\n",
    "    print(\"DecisionTreeClassifier\")\n",
    "    dec_tree = DecisionTreeClassifier(min_samples_split=10,min_samples_leaf=5).fit(X_train, y_train)\n",
    "    print(dec_tree,'\\n')\n",
    "    \n",
    "    y_pred = dec_tree.predict_proba(X_test)[:,1]\n",
    "\n",
    "    \n",
    "    # Utilizamos la validazion cruzada.\n",
    "    #get_eval(dec_tree, X_train, y_train,y_test,y_pred)\n",
    "    get_roc (y_test,y_pred)\n",
    "    return\n",
    "\n",
    "# Arbol de decision\n",
    "dectreeclf(X_train_clean_res, y_train_clean_res,X_test_clean, y_test_clean)"
   ]
  },
  {
   "cell_type": "markdown",
   "metadata": {
    "_uuid": "4ed9e0b8545196403507dde0a878ba1a5f7cc604",
    "colab_type": "text",
    "id": "nA3tHbQDry_f"
   },
   "source": [
    "### GradientBoostingClassifier (ROC_AUC:0.76)"
   ]
  },
  {
   "cell_type": "code",
   "execution_count": 50,
   "metadata": {
    "_uuid": "72b88670afd0ba8487d1a3a98bbecde61427aa4f",
    "colab": {
     "autoexec": {
      "startup": false,
      "wait_interval": 0
     },
     "base_uri": "https://localhost:8080/",
     "height": 648
    },
    "colab_type": "code",
    "collapsed": true,
    "executionInfo": {
     "elapsed": 5896,
     "status": "ok",
     "timestamp": 1530921188337,
     "user": {
      "displayName": "M Hendra Herviawan",
      "photoUrl": "https://lh3.googleusercontent.com/a/default-user=s128",
      "userId": "116685199798904688878"
     },
     "user_tz": -420
    },
    "id": "JjxG_CYtekIA",
    "outputId": "42c5bdfd-94d2-47fd-e82b-7a9a5e664528",
    "pycharm": {
     "is_executing": false
    }
   },
   "outputs": [
    {
     "name": "stdout",
     "output_type": "stream",
     "text": [
      "GradientBoostingClassifier\n",
      "GradientBoostingClassifier(criterion='friedman_mse', init=None,\n",
      "                           learning_rate=0.1, loss='deviance', max_depth=3,\n",
      "                           max_features=None, max_leaf_nodes=None,\n",
      "                           min_impurity_decrease=0.0, min_impurity_split=None,\n",
      "                           min_samples_leaf=1, min_samples_split=2,\n",
      "                           min_weight_fraction_leaf=0.0, n_estimators=100,\n",
      "                           n_iter_no_change=None, presort='auto',\n",
      "                           random_state=None, subsample=1.0, tol=0.0001,\n",
      "                           validation_fraction=0.1, verbose=0,\n",
      "                           warm_start=False) \n",
      "\n"
     ]
    },
    {
     "data": {
      "image/png": "[encoded data removed]",
      "text/plain": [
       "<Figure size 432x288 with 1 Axes>"
      ]
     },
     "metadata": {},
     "output_type": "display_data"
    }
   ],
   "source": [
    "from sklearn.ensemble import GradientBoostingClassifier\n",
    "\n",
    "# fit, train and cross validate GradientBoostingClassifier with training and test data \n",
    "def gradientboostingclf(X_train, y_train, X_test, y_test):  \n",
    "    print(\"GradientBoostingClassifier\")\n",
    "    gbclf = GradientBoostingClassifier().fit(X_train, y_train)\n",
    "    print(gbclf,'\\n')\n",
    "    \n",
    "    y_pred = gbclf.predict_proba(X_test)[:,1]\n",
    "\n",
    "    # Utilizamos la validazion cruzada.\n",
    "    #get_eval(gbclf, X_train, y_train,y_test,y_pred)\n",
    "    get_roc (y_test,y_pred)\n",
    "    return\n",
    "  \n",
    "# GradientBoostingClassifier\n",
    "# Choose clean data, as tree is robust\n",
    "gradientboostingclf(X_train_clean_res, y_train_clean_res,X_test_clean, y_test_clean)"
   ]
  },
  {
   "cell_type": "markdown",
   "metadata": {
    "_uuid": "e2d254a8b7a76f3fcd3f98277a52989c5df7d0c2"
   },
   "source": [
    "### AdaBoostClassifier (ROC_AUC:0.75)"
   ]
  },
  {
   "cell_type": "code",
   "execution_count": 78,
   "metadata": {
    "_uuid": "c8caa356aa7993faa1bd77afafd858b7f95e18b8",
    "colab": {
     "autoexec": {
      "startup": false,
      "wait_interval": 0
     },
     "base_uri": "https://localhost:8080/",
     "height": 546
    },
    "colab_type": "code",
    "executionInfo": {
     "elapsed": 4970,
     "status": "ok",
     "timestamp": 1530921206830,
     "user": {
      "displayName": "M Hendra Herviawan",
      "photoUrl": "https://lh3.googleusercontent.com/a/default-user=s128",
      "userId": "116685199798904688878"
     },
     "user_tz": -420
    },
    "id": "wdN9GgUUetH1",
    "outputId": "127b3cf9-a597-4d63-f296-b4ceeb0d6a19",
    "pycharm": {
     "is_executing": false
    },
    "scrolled": true
   },
   "outputs": [
    {
     "name": "stdout",
     "output_type": "stream",
     "text": [
      "AdaBoostClassifier\n",
      "AdaBoostClassifier(algorithm='SAMME.R', base_estimator=None, learning_rate=1.0,\n",
      "                   n_estimators=50, random_state=None) \n",
      "\n"
     ]
    },
    {
     "data": {
      "image/png": "[encoded data removed]",
      "text/plain": [
       "<Figure size 432x288 with 1 Axes>"
      ]
     },
     "metadata": {},
     "output_type": "display_data"
    }
   ],
   "source": [
    "from sklearn.ensemble import AdaBoostClassifier\n",
    "\n",
    "\n",
    "def adaboostclf(X_train, y_train, X_test, y_test):  \n",
    "    print(\"AdaBoostClassifier\")\n",
    "    abclf = AdaBoostClassifier().fit(X_train, y_train)\n",
    "    print(abclf,'\\n')\n",
    "    \n",
    "    y_pred = abclf.predict_proba(X_test)[:,1]\n",
    "\n",
    "    get_roc (y_test,y_pred)\n",
    "    return\n",
    "\n",
    "adaboostclf(X_train_clean_res, y_train_clean_res,X_test_clean, y_test_clean)"
   ]
  },
  {
   "cell_type": "code",
   "execution_count": 107,
   "metadata": {},
   "outputs": [
    {
     "name": "stdout",
     "output_type": "stream",
     "text": [
      "SVMClassifier\n",
      "SVC(C=1.0, cache_size=200, class_weight=None, coef0=0.0,\n",
      "    decision_function_shape='ovr', degree=3, gamma='scale', kernel='rbf',\n",
      "    max_iter=-1, probability=True, random_state=None, shrinking=True, tol=0.001,\n",
      "    verbose=False) \n",
      "\n"
     ]
    },
    {
     "data": {
      "image/png": "[encoded data removed]",
      "text/plain": [
       "<Figure size 432x288 with 1 Axes>"
      ]
     },
     "metadata": {},
     "output_type": "display_data"
    }
   ],
   "source": [
    "from sklearn import svm\n",
    "\n",
    "\n",
    "def svmClassifier(X_train, y_train, X_test, y_test):  \n",
    "    print(\"SVMClassifier\")\n",
    "    svModel = svm.SVC(gamma='scale', probability=True,decision_function_shape='ovr')\n",
    "    svclf = svModel.fit(X_train, y_train)\n",
    "    print(svclf,'\\n')\n",
    "    \n",
    "    y_pred = svclf.predict_proba(X_test)[:,1]\n",
    "    \n",
    "    get_roc (y_test,y_pred)\n",
    "  \n",
    "    return\n",
    "\n",
    "\n",
    "\n",
    "\n",
    "svmClassifier(X_train_clean_res, y_train_clean_res,X_test_clean, y_test_clean)"
   ]
  },
  {
   "cell_type": "code",
   "execution_count": null,
   "metadata": {},
   "outputs": [],
   "source": []
  },
  {
   "cell_type": "code",
   "execution_count": 118,
   "metadata": {},
   "outputs": [
    {
     "name": "stdout",
     "output_type": "stream",
     "text": [
      "BagClassifier\n"
     ]
    },
    {
     "data": {
      "image/png": "[encoded data removed]",
      "text/plain": [
       "<Figure size 432x288 with 1 Axes>"
      ]
     },
     "metadata": {},
     "output_type": "display_data"
    },
    {
     "name": "stdout",
     "output_type": "stream",
     "text": [
      "[0.73177116 0.20667673 0.9096774  0.32303998 0.38400893 0.25075455\n",
      " 0.58760349 0.70417308 0.9951425  0.72433958 0.2266367  0.39675555\n",
      " 0.73469929 0.9643117  0.56776542 0.71590114 0.95096284 0.93981374\n",
      " 0.85735946 0.48146665 0.54103425 0.30272732 0.76186575 0.6707103\n",
      " 0.98038835 0.77462523 0.42213627 0.98262678 0.89818728 0.24515735\n",
      " 0.60543338 0.78988354 0.42857367 0.79293118 0.82298759 0.31300484\n",
      " 0.85007243 0.38218848 0.62403279 0.81184506 0.60210535 0.4724546\n",
      " 0.99589646 0.48615654 0.69982471 0.98605574 0.77326738 0.49081009\n",
      " 0.93848566 0.90197709 0.69754815 0.69592036 0.28142356 0.3481078\n",
      " 0.33637447 0.85288702 0.2141834  0.5374308  0.96320726 0.66495237\n",
      " 0.37899816 0.99928571 0.31463674 0.97216595 0.4594437  0.48606946\n",
      " 0.6487791  0.97564045 0.21011656 0.33535642 0.88377162 0.8958835\n",
      " 0.97726462 0.51307391 0.63242922 0.62198678 0.54737155 0.88352286\n",
      " 0.98799201 0.97354447 0.80601927 0.97909524 0.88825378 0.84704461\n",
      " 0.20438    0.41321296 0.6002151  0.7186613  0.23537504 0.98898918\n",
      " 0.99382305 0.55524648 0.83587636 0.77889081 0.17270704 0.69293301\n",
      " 0.71310171 0.3553154  0.8660268  0.65640411 0.91889502 0.74767352\n",
      " 0.51995974 0.8091881  0.87776634 0.92205461 0.76547078 0.32469062\n",
      " 0.45621281 0.56945665 0.78676434 0.66854181 0.60894395 0.36111432\n",
      " 0.67101303 0.68089535 0.34459552 0.59461888 0.29465348 0.92904676\n",
      " 0.5769095  0.49197486 0.49271084 0.5646954  0.99323773 0.8960919\n",
      " 0.79822659 0.38331757 0.98159054 0.76699246 0.81959012 0.53064395\n",
      " 0.62264611 0.97240981 0.98879915 0.95003072 0.91585896 0.95531202\n",
      " 0.99270202 0.99227778 0.33576037 0.71774576 0.36874529 0.73981751\n",
      " 0.51157047 0.83915336 0.71353062 0.77220384 0.60388093 0.53336174\n",
      " 0.93922666 0.6750664  0.92163663 0.82090168 0.86364989 0.68842885\n",
      " 0.58717963 0.7201535  0.6580879  0.91037158 0.98070346 0.57517466\n",
      " 0.6526823  0.77213638 0.10536926 0.93812544 0.79945039 0.67081085\n",
      " 0.89143593 0.78580378 0.70646107 0.86596064 0.98859984 0.84339098\n",
      " 0.47102143 0.2811178  0.52508418 0.9489904  0.81392781 0.68511874\n",
      " 0.19946389 0.81094455 0.26337124 0.61657139 0.54686334 0.70996951\n",
      " 0.9935165  0.80587041 0.65698429 0.55722021 0.58600275 0.51820268\n",
      " 0.70633268 0.89346179 0.89736742 0.86536007 0.82219729 0.9441512\n",
      " 0.95848545 0.79216245]\n"
     ]
    }
   ],
   "source": [
    "from sklearn.ensemble import BaggingClassifier\n",
    "from sklearn.ensemble import GradientBoostingClassifier\n",
    "\n",
    "\n",
    "def bagClassifier(X_train, y_train, X_test, y_test):  \n",
    "    bBmodel = DecisionTreeClassifier(min_samples_split=10,min_samples_leaf=5)\n",
    "    \n",
    "    print(\"BagClassifier\")\n",
    "    bagModel =  BaggingClassifier(base_estimator=bBmodel, n_estimators=200, random_state=1023)\n",
    "    bagclf = bagModel.fit(X_train, y_train)\n",
    "    y_pred = bagclf.predict_proba(X_test)[:,1]\n",
    "    get_roc (y_test,y_pred)\n",
    "    print(y_pred)\n",
    "    return\n",
    "\n",
    "\n",
    "\n",
    "\n",
    "bagClassifier(X_train_clean_res, y_train_clean_res,X_test_clean, y_test_clean)"
   ]
  },
  {
   "cell_type": "code",
   "execution_count": 122,
   "metadata": {},
   "outputs": [
    {
     "name": "stdout",
     "output_type": "stream",
     "text": [
      "SVMClassifier\n",
      "Iteration 1, loss = inf\n",
      "Iteration 2, loss = 0.76836001\n",
      "Iteration 3, loss = 0.79542062\n",
      "Iteration 4, loss = 0.81236329\n",
      "Iteration 5, loss = 0.82185959\n",
      "Iteration 6, loss = 0.82683487\n",
      "Iteration 7, loss = 0.82920812\n",
      "Iteration 8, loss = 0.83019857\n",
      "Iteration 9, loss = 0.83041176\n",
      "Iteration 10, loss = 0.83025826\n",
      "Iteration 11, loss = 0.82990588\n",
      "Iteration 12, loss = 0.82947122\n",
      "Iteration 13, loss = 0.82897114\n",
      "Training loss did not improve more than tol=0.000010 for 10 consecutive epochs. Stopping.\n",
      "MLPClassifier(activation='relu', alpha=0.1, batch_size='auto', beta_1=0.9,\n",
      "              beta_2=0.999, early_stopping=False, epsilon=1e-08,\n",
      "              hidden_layer_sizes=(10, 2), learning_rate='constant',\n",
      "              learning_rate_init=0.001, max_iter=200, momentum=0.9,\n",
      "              n_iter_no_change=10, nesterovs_momentum=True, power_t=0.5,\n",
      "              random_state=21, shuffle=True, solver='sgd', tol=1e-05,\n",
      "              validation_fraction=0.1, verbose=10, warm_start=False) \n",
      "\n",
      "[0.4054449 0.4054449 0.4054449 0.4054449 0.4054449 0.4054449 0.4054449\n",
      " 0.4054449 0.4054449 0.4054449 0.4054449 0.4054449 0.4054449 0.4054449\n",
      " 0.4054449 0.4054449 0.4054449 0.4054449 0.4054449 0.4054449 0.4054449\n",
      " 0.4054449 0.4054449 0.4054449 0.4054449 0.4054449 0.4054449 0.4054449\n",
      " 0.4054449 0.4054449 0.4054449 0.4054449 0.4054449 0.4054449 0.4054449\n",
      " 0.4054449 0.4054449 0.4054449 0.4054449 0.4054449 0.4054449 0.4054449\n",
      " 0.4054449 0.4054449 0.4054449 0.4054449 0.4054449 0.4054449 0.4054449\n",
      " 0.4054449 0.4054449 0.4054449 0.4054449 0.4054449 0.4054449 0.4054449\n",
      " 0.4054449 0.4054449 0.4054449 0.4054449 0.4054449 0.4054449 0.4054449\n",
      " 0.4054449 0.4054449 0.4054449 0.4054449 0.4054449 0.4054449 0.4054449\n",
      " 0.4054449 0.4054449 0.4054449 0.4054449 0.4054449 0.4054449 0.4054449\n",
      " 0.4054449 0.4054449 0.4054449 0.4054449 0.4054449 0.4054449 0.4054449\n",
      " 0.4054449 0.4054449 0.4054449 0.4054449 0.4054449 0.4054449 0.4054449\n",
      " 0.4054449 0.4054449 0.4054449 0.4054449 0.4054449 0.4054449 0.4054449\n",
      " 0.4054449 0.4054449 0.4054449 0.4054449 0.4054449 0.4054449 0.4054449\n",
      " 0.4054449 0.4054449 0.4054449 0.4054449 0.4054449 0.4054449 0.4054449\n",
      " 0.4054449 0.4054449 0.4054449 0.4054449 0.4054449 0.4054449 0.4054449\n",
      " 0.4054449 0.4054449 0.4054449 0.4054449 0.4054449 0.4054449 0.4054449\n",
      " 0.4054449 0.4054449 0.4054449 0.4054449 0.4054449 0.4054449 0.4054449\n",
      " 0.4054449 0.4054449 0.4054449 0.4054449 0.4054449 0.4054449 0.4054449\n",
      " 0.4054449 0.4054449 0.4054449 0.4054449 0.4054449 0.4054449 0.4054449\n",
      " 0.4054449 0.4054449 0.4054449 0.4054449 0.4054449 0.4054449 0.4054449\n",
      " 0.4054449 0.4054449 0.4054449 0.4054449 0.4054449 0.4054449 0.4054449\n",
      " 0.4054449 0.4054449 0.4054449 0.4054449 0.4054449 0.4054449 0.4054449\n",
      " 0.4054449 0.4054449 0.4054449 0.4054449 0.4054449 0.4054449 0.4054449\n",
      " 0.4054449 0.4054449 0.4054449 0.4054449 0.4054449 0.4054449 0.4054449\n",
      " 0.4054449 0.4054449 0.4054449 0.4054449 0.4054449 0.4054449 0.4054449\n",
      " 0.4054449 0.4054449 0.4054449 0.4054449 0.4054449 0.4054449 0.4054449\n",
      " 0.4054449 0.4054449 0.4054449 0.4054449]\n"
     ]
    },
    {
     "data": {
      "image/png": "[encoded data removed]",
      "text/plain": [
       "<Figure size 432x288 with 1 Axes>"
      ]
     },
     "metadata": {},
     "output_type": "display_data"
    }
   ],
   "source": [
    "from sklearn.neural_network import MLPClassifier\n",
    "\n",
    "def nnClassifier(X_train, y_train, X_test, y_test):  \n",
    "    print(\"SVMClassifier\")\n",
    "    nnModel = MLPClassifier(hidden_layer_sizes=(10,2), max_iter=200, alpha=0.1,\n",
    "                     solver='sgd', verbose=10,  random_state=21,tol=0.00001)\n",
    "    nnclf = nnModel.fit(X_train, y_train)\n",
    "    print(nnclf,'\\n')\n",
    "\n",
    "    y_pred = nnclf.predict_proba(X_test)[:,1]\n",
    "    \n",
    "    print(y_pred)\n",
    "    get_roc (y_test,y_pred)\n",
    "\n",
    "  \n",
    "    return\n",
    "\n",
    "\n",
    "\n",
    "\n",
    "nnClassifier(X_train_clean_res, y_train_clean_res,X_test_clean, y_test_clean)"
   ]
  }
 ],
 "metadata": {
  "colab": {
   "collapsed_sections": [],
   "default_view": {},
   "name": "german-credit_XGB1.ipynb",
   "provenance": [],
   "version": "0.3.2",
   "views": {}
  },
  "kernelspec": {
   "display_name": "Python 3",
   "language": "python",
   "name": "python3"
  },
  "language_info": {
   "codemirror_mode": {
    "name": "ipython",
    "version": 3
   },
   "file_extension": ".py",
   "mimetype": "text/x-python",
   "name": "python",
   "nbconvert_exporter": "python",
   "pygments_lexer": "ipython3",
   "version": "3.5.2"
  },
  "pycharm": {
   "stem_cell": {
    "cell_type": "raw",
    "metadata": {
     "collapsed": false
    },
    "source": [
     "\n",
     "\n",
     "- XGBoost Model"
    ]
   }
  }
 },
 "nbformat": 4,
 "nbformat_minor": 1
}
